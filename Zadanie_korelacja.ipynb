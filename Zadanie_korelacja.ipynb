{
 "cells": [
  {
   "cell_type": "code",
   "execution_count": 1,
   "id": "940d0cd0",
   "metadata": {},
   "outputs": [],
   "source": [
    "import csv\n"
   ]
  },
  {
   "cell_type": "code",
   "execution_count": 2,
   "id": "50d44498",
   "metadata": {},
   "outputs": [],
   "source": [
    "data_collection = []\n",
    "\n",
    "x_mean = 0\n",
    "y_mean = 0\n",
    "x_median = 0\n",
    "y_median = 0\n",
    "x_mode = 0\n",
    "y_mode = 0\n",
    "\n",
    "x_variance = 0\n",
    "y_variance = 0\n",
    "x_st_dev = 0\n",
    "y_st_dev = 0\n",
    "\n",
    "xy_covariance = 0\n",
    "xy_correlation = 0\n",
    "\n",
    "given_conf_int = []\n"
   ]
  },
  {
   "cell_type": "code",
   "execution_count": 3,
   "id": "d31dc52d",
   "metadata": {},
   "outputs": [],
   "source": [
    "central_stmt = \"{} mean is {} and median is {}.\"\n",
    "deviation_stmt = \"{} variance is {} and standard deviation is {}.\"\n",
    "co_measures_stmt = \"{} and {} covariance is {} and correlation is {}.\"\n",
    "x_label = ''\n",
    "y_label = ''\n"
   ]
  },
  {
   "cell_type": "code",
   "execution_count": 16,
   "id": "1dfaf556",
   "metadata": {},
   "outputs": [
    {
     "data": {
      "text/plain": [
       "[['x1', 1.3, 76.84878],\n",
       " ['x2', 1.95, 81.40732],\n",
       " ['x3', 2.466, 77.57895],\n",
       " ['x4', 1.6, 74.16341],\n",
       " ['x5', 2.952, 68.84907],\n",
       " ['x6', 1.801, 73.88595],\n",
       " ['x7', 1.34, 75.26829],\n",
       " ['x8', 1.34, 76.26098],\n",
       " ['x9', 1.63, 80.57244],\n",
       " ['x10', 2.326, 65.46259],\n",
       " ['x11', 2.436, 67.5482],\n",
       " ['x12', 6.563, 55.02451],\n",
       " ['x13', 1.283, 76.2799],\n",
       " ['x14', 1.43, 82.29024],\n",
       " ['x15', 1.988, 69.80695],\n",
       " ['x16', 1.61, 81.40112],\n",
       " ['x17', 1.921, 82.19756],\n",
       " ['x18', 2.4, 74.22683],\n",
       " ['x19', 1.495, 80.12888],\n",
       " ['x20', 4.705, 45.55095],\n",
       " ['x1', 1.3, 76.84878],\n",
       " ['x2', 1.95, 81.40732],\n",
       " ['x3', 2.466, 77.57895],\n",
       " ['x4', 1.6, 74.16341],\n",
       " ['x5', 2.952, 68.84907],\n",
       " ['x6', 1.801, 73.88595],\n",
       " ['x7', 1.34, 75.26829],\n",
       " ['x8', 1.34, 76.26098],\n",
       " ['x9', 1.63, 80.57244],\n",
       " ['x10', 2.326, 65.46259],\n",
       " ['x11', 2.436, 67.5482],\n",
       " ['x12', 6.563, 55.02451],\n",
       " ['x13', 1.283, 76.2799],\n",
       " ['x14', 1.43, 82.29024],\n",
       " ['x15', 1.988, 69.80695],\n",
       " ['x16', 1.61, 81.40112],\n",
       " ['x17', 1.921, 82.19756],\n",
       " ['x18', 2.4, 74.22683],\n",
       " ['x19', 1.495, 80.12888],\n",
       " ['x20', 4.705, 45.55095]]"
      ]
     },
     "execution_count": 16,
     "metadata": {},
     "output_type": "execute_result"
    }
   ],
   "source": [
    "with open('zadanie_korelacja_source.csv') as source_file:\n",
    "    source_data = csv.reader(source_file, delimiter=',')\n",
    "        \n",
    "    for row in source_data:\n",
    "        try:\n",
    "            x = float(row[1])\n",
    "            y = float(row[2])\n",
    "        except:            \n",
    "            x_label = row[1]\n",
    "            y_label = row[2]\n",
    "        else:\n",
    "            r = row[0]\n",
    "            x = float(row[1])\n",
    "            y = float(row[2])\n",
    "            z = [r, x, y]\n",
    "            data_collection.append(z)\n",
    "            \n",
    "data_collection\n"
   ]
  },
  {
   "cell_type": "code",
   "execution_count": 15,
   "id": "253c6129",
   "metadata": {},
   "outputs": [
    {
     "data": {
      "text/plain": [
       "2.2268"
      ]
     },
     "execution_count": 15,
     "metadata": {},
     "output_type": "execute_result"
    }
   ],
   "source": [
    "def mean(input_list, column):\n",
    "    result = 0\n",
    "    collection = []\n",
    "    \n",
    "    for row in input_list:\n",
    "        collection.append(row[column])\n",
    "            \n",
    "    result = sum(collection) / len(collection)\n",
    "    \n",
    "    return result\n",
    "\n",
    "\n",
    "mean(data_collection, 1)\n"
   ]
  },
  {
   "cell_type": "code",
   "execution_count": 17,
   "id": "b933a05e",
   "metadata": {},
   "outputs": [
    {
     "data": {
      "text/plain": [
       "1.861"
      ]
     },
     "execution_count": 17,
     "metadata": {},
     "output_type": "execute_result"
    }
   ],
   "source": [
    "def median(input_list, column):\n",
    "    result = 0\n",
    "    collection = []\n",
    "    input_parity = 0\n",
    "    sample_size = 0\n",
    "    \n",
    "    for row in input_list:\n",
    "        collection.append(row[column])\n",
    "    \n",
    "    collection.sort()    \n",
    "    input_parity = len(collection) % 2\n",
    "    sample_size = len(collection)\n",
    "    \n",
    "    if input_parity == 0:\n",
    "        a = int(sample_size / 2 - 1)\n",
    "        b = int(sample_size / 2)\n",
    "        result = (collection[a] + collection[b]) / 2\n",
    "    else:\n",
    "        c = int(sample_size / 2 + 0.5)\n",
    "        result = collection[c]\n",
    "        \n",
    "    return result\n",
    "\n",
    "\n",
    "median(data_collection, 1)\n"
   ]
  },
  {
   "cell_type": "code",
   "execution_count": 7,
   "id": "baeace6e",
   "metadata": {},
   "outputs": [],
   "source": [
    "def mode(input_list, column):\n",
    "    print('tu będxzie funkcjsa mody')\n"
   ]
  },
  {
   "cell_type": "code",
   "execution_count": 18,
   "id": "d96cd2a2",
   "metadata": {},
   "outputs": [
    {
     "data": {
      "text/plain": [
       "1.6226544205128206"
      ]
     },
     "execution_count": 18,
     "metadata": {},
     "output_type": "execute_result"
    }
   ],
   "source": [
    "def variance(input_list, column):\n",
    "    collection = []\n",
    "    deviances = []\n",
    "    result = 0\n",
    "    sample_mean = 0\n",
    "    \n",
    "    for row in input_list:\n",
    "        collection.append(row[column])\n",
    "        \n",
    "    sample_mean = sum(collection) / len(collection)\n",
    "    \n",
    "    for i in collection:\n",
    "        a = (i - sample_mean) ** 2\n",
    "        deviances.append(a)\n",
    "            \n",
    "    result = sum(deviances) / (len(collection) - 1)\n",
    "    \n",
    "    return result\n",
    "\n",
    "\n",
    "variance(data_collection, 1)\n"
   ]
  },
  {
   "cell_type": "code",
   "execution_count": 19,
   "id": "43a1779c",
   "metadata": {},
   "outputs": [
    {
     "data": {
      "text/plain": [
       "1.2738345341969735"
      ]
     },
     "execution_count": 19,
     "metadata": {},
     "output_type": "execute_result"
    }
   ],
   "source": [
    "def st_dev(input_list, column):\n",
    "    result = 0\n",
    "    \n",
    "    result = variance(input_list, column) ** (1/2)\n",
    "    \n",
    "    return result\n",
    "\n",
    "\n",
    "st_dev(data_collection, 1)\n"
   ]
  },
  {
   "cell_type": "code",
   "execution_count": 20,
   "id": "3678b224",
   "metadata": {},
   "outputs": [
    {
     "data": {
      "text/plain": [
       "-9.688737665948716"
      ]
     },
     "execution_count": 20,
     "metadata": {},
     "output_type": "execute_result"
    }
   ],
   "source": [
    "def covariance(input_list):\n",
    "    x_mean = mean(input_list, 1)\n",
    "    y_mean = mean(input_list, 2)\n",
    "    deviances = []\n",
    "    result = 0\n",
    "    \n",
    "    for i in input_list:\n",
    "        a = (i[1] - x_mean) * (i[2] - y_mean)\n",
    "        deviances.append(a)\n",
    "        \n",
    "    result = sum(deviances) / (len(deviances) - 1)\n",
    "       \n",
    "    return result\n",
    "\n",
    "\n",
    "covariance(data_collection)\n"
   ]
  },
  {
   "cell_type": "code",
   "execution_count": 21,
   "id": "4b3aa059",
   "metadata": {},
   "outputs": [
    {
     "data": {
      "text/plain": [
       "-0.8204930122649573"
      ]
     },
     "execution_count": 21,
     "metadata": {},
     "output_type": "execute_result"
    }
   ],
   "source": [
    "def correlation(input_list):\n",
    "    result = 0\n",
    "    \n",
    "    result = covariance(input_list) / (st_dev(input_list, 1) * st_dev(input_list, 2))\n",
    "    \n",
    "    return result\n",
    "\n",
    "\n",
    "correlation(data_collection)\n"
   ]
  },
  {
   "cell_type": "code",
   "execution_count": 22,
   "id": "f5850cef",
   "metadata": {},
   "outputs": [
    {
     "data": {
      "text/plain": [
       "(70.42062581476881, 76.05466618523121)"
      ]
     },
     "execution_count": 22,
     "metadata": {},
     "output_type": "execute_result"
    }
   ],
   "source": [
    "def conf_interval(input_list, column, pop_st_dev, level):\n",
    "    collection = []\n",
    "    z = 0\n",
    "    factor = 0\n",
    "    result = ()\n",
    "    sample_mean = 0\n",
    "    \n",
    "    for row in input_list:\n",
    "        collection.append(row[column])\n",
    "        \n",
    "    sample_mean = sum(collection) / len(collection)\n",
    "    \n",
    "    if level == 99:\n",
    "        z = 2.576\n",
    "    elif level == 98:\n",
    "        z = 2.326\n",
    "    elif level == 95:\n",
    "        z = 1.96\n",
    "    elif level == 90:\n",
    "        z = 1.645\n",
    "    else:\n",
    "        print(\"Wrong confidence level provided\")\n",
    "        \n",
    "    factor = z * (pop_st_dev / (len(data_collection) ** (1/2)))\n",
    "        \n",
    "    result = ((sample_mean - factor), (sample_mean + factor))\n",
    "    \n",
    "    return result\n",
    "\n",
    "\n",
    "conf_interval(data_collection, 2, 9.09, 95)\n"
   ]
  },
  {
   "cell_type": "code",
   "execution_count": 13,
   "id": "cb035637",
   "metadata": {},
   "outputs": [],
   "source": [
    "y_mean = mean(data_collection, 2)\n",
    "y_median = median(data_collection, 2)\n",
    "\n",
    "y_variance = variance(data_collection, 2)\n",
    "y_st_dev = st_dev(data_collection, 2)\n",
    "\n",
    "xy_covariance = covariance(data_collection)\n",
    "xy_correlation = correlation(data_collection)\n",
    "\n",
    "given_conf_int = conf_interval(data_collection, 2, 9.09, 95)\n"
   ]
  },
  {
   "cell_type": "code",
   "execution_count": 14,
   "id": "58041723",
   "metadata": {},
   "outputs": [
    {
     "name": "stdout",
     "output_type": "stream",
     "text": [
      "Life expectancy at birth mean is 73.24 and median is 75.76.\n",
      "Life expectancy at birth variance is 88.19 and standard deviation is 9.39.\n",
      "Fertility rate and Life expectancy at birth covariance is -9.94 and correlation is -0.82.\n",
      "Life expectancy at birth 95% confidence interval for its mean is from 69.25 to 77.22.\n"
     ]
    }
   ],
   "source": [
    "print(central_stmt.format(y_label, \"{:.2f}\".format(y_mean),\n",
    "                          \"{:.2f}\".format(y_median)))                      \n",
    "print(deviation_stmt.format(y_label, \"{:.2f}\".format(y_variance),\n",
    "                            \"{:.2f}\".format(y_st_dev)))\n",
    "print(co_measures_stmt.format(x_label, y_label, \"{:.2f}\".format(xy_covariance),\n",
    "                              \"{:.2f}\".format(xy_correlation)))\n",
    "print(\"{} 95% confidence interval for its mean is from {} to {}.\".format(y_label,\n",
    "                                                                     \"{:.2f}\".format(given_conf_int[0]),\n",
    "                                                                     \"{:.2f}\".format(given_conf_int[1])))"
   ]
  },
  {
   "cell_type": "markdown",
   "id": "66e909a4",
   "metadata": {},
   "source": [
    "# Statistics for data provided\n",
    "\n",
    "Life expectancy at birth mean is 73.24 and median is 75.76.\n",
    "Life expectancy at birth 95% confidence interval for its mean is from 69.25 to 77.22.\n",
    "Life expectancy at birth variance is 88.19 and standard deviation is 9.39.\n",
    "Fertility rate and Life expectancy at birth covariance is -9.94 and correlation is -0.82.\n",
    "\n",
    "Considering above figures, very strong negative correlation between Fertility rate and Life expectancy at birth has been observed. Such a correlation could be explained by a level of well-being in the countries observed, but further investigation to confirm this hypothesis is needed.\n"
   ]
  }
 ],
 "metadata": {
  "kernelspec": {
   "display_name": "Python 3",
   "language": "python",
   "name": "python3"
  },
  "language_info": {
   "codemirror_mode": {
    "name": "ipython",
    "version": 3
   },
   "file_extension": ".py",
   "mimetype": "text/x-python",
   "name": "python",
   "nbconvert_exporter": "python",
   "pygments_lexer": "ipython3",
   "version": "3.9.5"
  }
 },
 "nbformat": 4,
 "nbformat_minor": 5
}
