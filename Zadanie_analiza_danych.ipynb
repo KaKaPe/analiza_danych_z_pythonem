{
 "cells": [
  {
   "cell_type": "code",
   "execution_count": 1,
   "id": "5eafcf8a",
   "metadata": {},
   "outputs": [],
   "source": [
    "import datetime as dt\n",
    "import matplotlib.pyplot as plt\n",
    "import numpy as np\n",
    "import pandas as pd\n",
    "import seaborn as sns"
   ]
  },
  {
   "cell_type": "code",
   "execution_count": 2,
   "id": "488e3e85",
   "metadata": {},
   "outputs": [
    {
     "data": {
      "text/html": [
       "<div>\n",
       "<style scoped>\n",
       "    .dataframe tbody tr th:only-of-type {\n",
       "        vertical-align: middle;\n",
       "    }\n",
       "\n",
       "    .dataframe tbody tr th {\n",
       "        vertical-align: top;\n",
       "    }\n",
       "\n",
       "    .dataframe thead th {\n",
       "        text-align: right;\n",
       "    }\n",
       "</style>\n",
       "<table border=\"1\" class=\"dataframe\">\n",
       "  <thead>\n",
       "    <tr style=\"text-align: right;\">\n",
       "      <th></th>\n",
       "      <th>Employee_Name</th>\n",
       "      <th>EmpID</th>\n",
       "      <th>MarriedID</th>\n",
       "      <th>MaritalStatusID</th>\n",
       "      <th>GenderID</th>\n",
       "      <th>EmpStatusID</th>\n",
       "      <th>DeptID</th>\n",
       "      <th>PerfScoreID</th>\n",
       "      <th>FromDiversityJobFairID</th>\n",
       "      <th>PayRate</th>\n",
       "      <th>...</th>\n",
       "      <th>Department</th>\n",
       "      <th>ManagerName</th>\n",
       "      <th>ManagerID</th>\n",
       "      <th>RecruitmentSource</th>\n",
       "      <th>PerformanceScore</th>\n",
       "      <th>EngagementSurvey</th>\n",
       "      <th>EmpSatisfaction</th>\n",
       "      <th>SpecialProjectsCount</th>\n",
       "      <th>LastPerformanceReview_Date</th>\n",
       "      <th>DaysLateLast30</th>\n",
       "    </tr>\n",
       "  </thead>\n",
       "  <tbody>\n",
       "    <tr>\n",
       "      <th>0</th>\n",
       "      <td>Brown, Mia</td>\n",
       "      <td>1.103024e+09</td>\n",
       "      <td>1.0</td>\n",
       "      <td>1.0</td>\n",
       "      <td>0.0</td>\n",
       "      <td>1.0</td>\n",
       "      <td>1.0</td>\n",
       "      <td>3.0</td>\n",
       "      <td>1.0</td>\n",
       "      <td>28.50</td>\n",
       "      <td>...</td>\n",
       "      <td>Admin Offices</td>\n",
       "      <td>Brandon R. LeBlanc</td>\n",
       "      <td>1.0</td>\n",
       "      <td>Diversity Job Fair</td>\n",
       "      <td>Fully Meets</td>\n",
       "      <td>2.04</td>\n",
       "      <td>2.0</td>\n",
       "      <td>6.0</td>\n",
       "      <td>1/15/2019</td>\n",
       "      <td>0.0</td>\n",
       "    </tr>\n",
       "    <tr>\n",
       "      <th>1</th>\n",
       "      <td>LaRotonda, William</td>\n",
       "      <td>1.106027e+09</td>\n",
       "      <td>0.0</td>\n",
       "      <td>2.0</td>\n",
       "      <td>1.0</td>\n",
       "      <td>1.0</td>\n",
       "      <td>1.0</td>\n",
       "      <td>3.0</td>\n",
       "      <td>0.0</td>\n",
       "      <td>23.00</td>\n",
       "      <td>...</td>\n",
       "      <td>Admin Offices</td>\n",
       "      <td>Brandon R. LeBlanc</td>\n",
       "      <td>1.0</td>\n",
       "      <td>Website Banner Ads</td>\n",
       "      <td>Fully Meets</td>\n",
       "      <td>5.00</td>\n",
       "      <td>4.0</td>\n",
       "      <td>4.0</td>\n",
       "      <td>1/17/2019</td>\n",
       "      <td>0.0</td>\n",
       "    </tr>\n",
       "    <tr>\n",
       "      <th>2</th>\n",
       "      <td>Steans, Tyrone</td>\n",
       "      <td>1.302053e+09</td>\n",
       "      <td>0.0</td>\n",
       "      <td>0.0</td>\n",
       "      <td>1.0</td>\n",
       "      <td>1.0</td>\n",
       "      <td>1.0</td>\n",
       "      <td>3.0</td>\n",
       "      <td>0.0</td>\n",
       "      <td>29.00</td>\n",
       "      <td>...</td>\n",
       "      <td>Admin Offices</td>\n",
       "      <td>Brandon R. LeBlanc</td>\n",
       "      <td>1.0</td>\n",
       "      <td>Internet Search</td>\n",
       "      <td>Fully Meets</td>\n",
       "      <td>3.90</td>\n",
       "      <td>5.0</td>\n",
       "      <td>5.0</td>\n",
       "      <td>1/18/2019</td>\n",
       "      <td>0.0</td>\n",
       "    </tr>\n",
       "    <tr>\n",
       "      <th>3</th>\n",
       "      <td>Howard, Estelle</td>\n",
       "      <td>1.211051e+09</td>\n",
       "      <td>1.0</td>\n",
       "      <td>1.0</td>\n",
       "      <td>0.0</td>\n",
       "      <td>1.0</td>\n",
       "      <td>1.0</td>\n",
       "      <td>3.0</td>\n",
       "      <td>0.0</td>\n",
       "      <td>21.50</td>\n",
       "      <td>...</td>\n",
       "      <td>Admin Offices</td>\n",
       "      <td>Brandon R. LeBlanc</td>\n",
       "      <td>1.0</td>\n",
       "      <td>Pay Per Click - Google</td>\n",
       "      <td>Fully Meets</td>\n",
       "      <td>3.24</td>\n",
       "      <td>3.0</td>\n",
       "      <td>4.0</td>\n",
       "      <td>NaN</td>\n",
       "      <td>NaN</td>\n",
       "    </tr>\n",
       "    <tr>\n",
       "      <th>4</th>\n",
       "      <td>Singh, Nan</td>\n",
       "      <td>1.307060e+09</td>\n",
       "      <td>0.0</td>\n",
       "      <td>0.0</td>\n",
       "      <td>0.0</td>\n",
       "      <td>1.0</td>\n",
       "      <td>1.0</td>\n",
       "      <td>3.0</td>\n",
       "      <td>0.0</td>\n",
       "      <td>16.56</td>\n",
       "      <td>...</td>\n",
       "      <td>Admin Offices</td>\n",
       "      <td>Brandon R. LeBlanc</td>\n",
       "      <td>1.0</td>\n",
       "      <td>Website Banner Ads</td>\n",
       "      <td>Fully Meets</td>\n",
       "      <td>5.00</td>\n",
       "      <td>3.0</td>\n",
       "      <td>5.0</td>\n",
       "      <td>1/15/2019</td>\n",
       "      <td>0.0</td>\n",
       "    </tr>\n",
       "  </tbody>\n",
       "</table>\n",
       "<p>5 rows × 35 columns</p>\n",
       "</div>"
      ],
      "text/plain": [
       "          Employee_Name         EmpID  MarriedID  MaritalStatusID  GenderID  \\\n",
       "0            Brown, Mia  1.103024e+09        1.0              1.0       0.0   \n",
       "1  LaRotonda, William    1.106027e+09        0.0              2.0       1.0   \n",
       "2      Steans, Tyrone    1.302053e+09        0.0              0.0       1.0   \n",
       "3       Howard, Estelle  1.211051e+09        1.0              1.0       0.0   \n",
       "4           Singh, Nan   1.307060e+09        0.0              0.0       0.0   \n",
       "\n",
       "   EmpStatusID  DeptID  PerfScoreID  FromDiversityJobFairID  PayRate  ...  \\\n",
       "0          1.0     1.0          3.0                     1.0    28.50  ...   \n",
       "1          1.0     1.0          3.0                     0.0    23.00  ...   \n",
       "2          1.0     1.0          3.0                     0.0    29.00  ...   \n",
       "3          1.0     1.0          3.0                     0.0    21.50  ...   \n",
       "4          1.0     1.0          3.0                     0.0    16.56  ...   \n",
       "\n",
       "      Department         ManagerName ManagerID       RecruitmentSource  \\\n",
       "0  Admin Offices  Brandon R. LeBlanc       1.0      Diversity Job Fair   \n",
       "1  Admin Offices  Brandon R. LeBlanc       1.0      Website Banner Ads   \n",
       "2  Admin Offices  Brandon R. LeBlanc       1.0         Internet Search   \n",
       "3  Admin Offices  Brandon R. LeBlanc       1.0  Pay Per Click - Google   \n",
       "4  Admin Offices  Brandon R. LeBlanc       1.0      Website Banner Ads   \n",
       "\n",
       "   PerformanceScore EngagementSurvey EmpSatisfaction SpecialProjectsCount  \\\n",
       "0       Fully Meets             2.04             2.0                  6.0   \n",
       "1       Fully Meets             5.00             4.0                  4.0   \n",
       "2       Fully Meets             3.90             5.0                  5.0   \n",
       "3       Fully Meets             3.24             3.0                  4.0   \n",
       "4       Fully Meets             5.00             3.0                  5.0   \n",
       "\n",
       "  LastPerformanceReview_Date DaysLateLast30  \n",
       "0                  1/15/2019            0.0  \n",
       "1                  1/17/2019            0.0  \n",
       "2                  1/18/2019            0.0  \n",
       "3                        NaN            NaN  \n",
       "4                  1/15/2019            0.0  \n",
       "\n",
       "[5 rows x 35 columns]"
      ]
     },
     "execution_count": 2,
     "metadata": {},
     "output_type": "execute_result"
    }
   ],
   "source": [
    "df = pd.read_csv('HRDataset.csv')\n",
    "df.head()"
   ]
  },
  {
   "cell_type": "code",
   "execution_count": 3,
   "id": "0ec2bc6c",
   "metadata": {},
   "outputs": [
    {
     "data": {
      "text/plain": [
       "Index(['Employee_Name', 'EmpID', 'MarriedID', 'MaritalStatusID', 'GenderID',\n",
       "       'EmpStatusID', 'DeptID', 'PerfScoreID', 'FromDiversityJobFairID',\n",
       "       'PayRate', 'Termd', 'PositionID', 'Position', 'State', 'Zip', 'DOB',\n",
       "       'Sex', 'MaritalDesc', 'CitizenDesc', 'HispanicLatino', 'RaceDesc',\n",
       "       'DateofHire', 'DateofTermination', 'TermReason', 'EmploymentStatus',\n",
       "       'Department', 'ManagerName', 'ManagerID', 'RecruitmentSource',\n",
       "       'PerformanceScore', 'EngagementSurvey', 'EmpSatisfaction',\n",
       "       'SpecialProjectsCount', 'LastPerformanceReview_Date', 'DaysLateLast30'],\n",
       "      dtype='object')"
      ]
     },
     "execution_count": 3,
     "metadata": {},
     "output_type": "execute_result"
    }
   ],
   "source": [
    "df.columns"
   ]
  },
  {
   "cell_type": "code",
   "execution_count": 4,
   "id": "bb386eea",
   "metadata": {},
   "outputs": [
    {
     "data": {
      "text/plain": [
       "<AxesSubplot:>"
      ]
     },
     "execution_count": 4,
     "metadata": {},
     "output_type": "execute_result"
    },
    {
     "data": {
      "image/png": "[encoded data removed]",
      "text/plain": [
       "<Figure size 432x288 with 2 Axes>"
      ]
     },
     "metadata": {
      "needs_background": "light"
     },
     "output_type": "display_data"
    }
   ],
   "source": [
    "sns.heatmap(df.isnull())"
   ]
  },
  {
   "cell_type": "code",
   "execution_count": 5,
   "id": "e1851f40",
   "metadata": {},
   "outputs": [
    {
     "data": {
      "text/plain": [
       "<AxesSubplot:>"
      ]
     },
     "execution_count": 5,
     "metadata": {},
     "output_type": "execute_result"
    },
    {
     "data": {
      "image/png": "[encoded data removed]",
      "text/plain": [
       "<Figure size 432x288 with 2 Axes>"
      ]
     },
     "metadata": {
      "needs_background": "light"
     },
     "output_type": "display_data"
    }
   ],
   "source": [
    "df.drop(['LastPerformanceReview_Date' ,'DaysLateLast30'], axis=1, inplace=True)\n",
    "df.dropna(thresh=2, inplace=True)\n",
    "\n",
    "sns.heatmap(df.isnull())"
   ]
  },
  {
   "cell_type": "code",
   "execution_count": 6,
   "id": "6654f909",
   "metadata": {},
   "outputs": [
    {
     "data": {
      "text/html": [
       "<div>\n",
       "<style scoped>\n",
       "    .dataframe tbody tr th:only-of-type {\n",
       "        vertical-align: middle;\n",
       "    }\n",
       "\n",
       "    .dataframe tbody tr th {\n",
       "        vertical-align: top;\n",
       "    }\n",
       "\n",
       "    .dataframe thead th {\n",
       "        text-align: right;\n",
       "    }\n",
       "</style>\n",
       "<table border=\"1\" class=\"dataframe\">\n",
       "  <thead>\n",
       "    <tr style=\"text-align: right;\">\n",
       "      <th></th>\n",
       "      <th>DateofTermination</th>\n",
       "      <th>DOB</th>\n",
       "      <th>DateofHire</th>\n",
       "    </tr>\n",
       "  </thead>\n",
       "  <tbody>\n",
       "    <tr>\n",
       "      <th>0</th>\n",
       "      <td>NaT</td>\n",
       "      <td>1987-11-24</td>\n",
       "      <td>2008-10-27</td>\n",
       "    </tr>\n",
       "    <tr>\n",
       "      <th>1</th>\n",
       "      <td>NaT</td>\n",
       "      <td>1984-04-26</td>\n",
       "      <td>2014-01-06</td>\n",
       "    </tr>\n",
       "    <tr>\n",
       "      <th>2</th>\n",
       "      <td>NaT</td>\n",
       "      <td>1986-09-01</td>\n",
       "      <td>2014-09-29</td>\n",
       "    </tr>\n",
       "    <tr>\n",
       "      <th>3</th>\n",
       "      <td>2015-04-15</td>\n",
       "      <td>1985-09-16</td>\n",
       "      <td>2015-02-16</td>\n",
       "    </tr>\n",
       "    <tr>\n",
       "      <th>4</th>\n",
       "      <td>NaT</td>\n",
       "      <td>1988-05-19</td>\n",
       "      <td>2015-05-01</td>\n",
       "    </tr>\n",
       "  </tbody>\n",
       "</table>\n",
       "</div>"
      ],
      "text/plain": [
       "  DateofTermination        DOB DateofHire\n",
       "0               NaT 1987-11-24 2008-10-27\n",
       "1               NaT 1984-04-26 2014-01-06\n",
       "2               NaT 1986-09-01 2014-09-29\n",
       "3        2015-04-15 1985-09-16 2015-02-16\n",
       "4               NaT 1988-05-19 2015-05-01"
      ]
     },
     "execution_count": 6,
     "metadata": {},
     "output_type": "execute_result"
    }
   ],
   "source": [
    "df['DOB'] = pd.to_datetime(df['DOB'], format='%m/%d/%y')\n",
    "df['DateofHire'] = pd.to_datetime(df['DateofHire'], format='%m/%d/%Y')\n",
    "df['DateofTermination'] = pd.to_datetime(df['DateofTermination'], format='%m/%d/%y')\n",
    "\n",
    "df[['DateofTermination','DOB','DateofHire']].head()"
   ]
  },
  {
   "cell_type": "markdown",
   "id": "820a4693",
   "metadata": {},
   "source": [
    "### Czy istnieje zależność pomiędzy tym, kto jest bezpośrednim przełożonym (ManagerName, ManagerID) danego pracownika, a oceną wydajności pracy (PerformanceScore)?"
   ]
  },
  {
   "cell_type": "code",
   "execution_count": 7,
   "id": "2543bd53",
   "metadata": {},
   "outputs": [
    {
     "data": {
      "text/plain": [
       "array(['Fully Meets', 'PIP', 'Exceeds', 'Needs Improvement'], dtype=object)"
      ]
     },
     "execution_count": 7,
     "metadata": {},
     "output_type": "execute_result"
    }
   ],
   "source": [
    "df['PerformanceScore'].unique()"
   ]
  },
  {
   "cell_type": "code",
   "execution_count": 8,
   "id": "b70bcbd3",
   "metadata": {},
   "outputs": [
    {
     "data": {
      "text/html": [
       "<div>\n",
       "<style scoped>\n",
       "    .dataframe tbody tr th:only-of-type {\n",
       "        vertical-align: middle;\n",
       "    }\n",
       "\n",
       "    .dataframe tbody tr th {\n",
       "        vertical-align: top;\n",
       "    }\n",
       "\n",
       "    .dataframe thead th {\n",
       "        text-align: right;\n",
       "    }\n",
       "</style>\n",
       "<table border=\"1\" class=\"dataframe\">\n",
       "  <thead>\n",
       "    <tr style=\"text-align: right;\">\n",
       "      <th>PerformanceScore</th>\n",
       "      <th>Exceeds</th>\n",
       "      <th>Fully Meets</th>\n",
       "      <th>Needs Improvement</th>\n",
       "      <th>PIP</th>\n",
       "    </tr>\n",
       "    <tr>\n",
       "      <th>ManagerName</th>\n",
       "      <th></th>\n",
       "      <th></th>\n",
       "      <th></th>\n",
       "      <th></th>\n",
       "    </tr>\n",
       "  </thead>\n",
       "  <tbody>\n",
       "    <tr>\n",
       "      <th>Alex Sweetwater</th>\n",
       "      <td>2.0</td>\n",
       "      <td>6.0</td>\n",
       "      <td>1.0</td>\n",
       "      <td>0.0</td>\n",
       "    </tr>\n",
       "    <tr>\n",
       "      <th>Amy Dunn</th>\n",
       "      <td>3.0</td>\n",
       "      <td>15.0</td>\n",
       "      <td>1.0</td>\n",
       "      <td>2.0</td>\n",
       "    </tr>\n",
       "    <tr>\n",
       "      <th>Board of Directors</th>\n",
       "      <td>0.0</td>\n",
       "      <td>2.0</td>\n",
       "      <td>0.0</td>\n",
       "      <td>0.0</td>\n",
       "    </tr>\n",
       "    <tr>\n",
       "      <th>Brandon R. LeBlanc</th>\n",
       "      <td>0.0</td>\n",
       "      <td>7.0</td>\n",
       "      <td>0.0</td>\n",
       "      <td>0.0</td>\n",
       "    </tr>\n",
       "    <tr>\n",
       "      <th>Brannon Miller</th>\n",
       "      <td>7.0</td>\n",
       "      <td>9.0</td>\n",
       "      <td>1.0</td>\n",
       "      <td>4.0</td>\n",
       "    </tr>\n",
       "  </tbody>\n",
       "</table>\n",
       "</div>"
      ],
      "text/plain": [
       "PerformanceScore    Exceeds  Fully Meets  Needs Improvement  PIP\n",
       "ManagerName                                                     \n",
       "Alex Sweetwater         2.0          6.0                1.0  0.0\n",
       "Amy Dunn                3.0         15.0                1.0  2.0\n",
       "Board of Directors      0.0          2.0                0.0  0.0\n",
       "Brandon R. LeBlanc      0.0          7.0                0.0  0.0\n",
       "Brannon Miller          7.0          9.0                1.0  4.0"
      ]
     },
     "execution_count": 8,
     "metadata": {},
     "output_type": "execute_result"
    }
   ],
   "source": [
    "manager_score = df.pivot_table(values='EmpID', index=df['ManagerName'], \n",
    "                               columns=df['PerformanceScore'], \n",
    "                               aggfunc='count').fillna(0)\n",
    "\n",
    "manager_score.head()"
   ]
  },
  {
   "cell_type": "code",
   "execution_count": 9,
   "id": "29260b8f",
   "metadata": {},
   "outputs": [
    {
     "data": {
      "text/html": [
       "<div>\n",
       "<style scoped>\n",
       "    .dataframe tbody tr th:only-of-type {\n",
       "        vertical-align: middle;\n",
       "    }\n",
       "\n",
       "    .dataframe tbody tr th {\n",
       "        vertical-align: top;\n",
       "    }\n",
       "\n",
       "    .dataframe thead th {\n",
       "        text-align: right;\n",
       "    }\n",
       "</style>\n",
       "<table border=\"1\" class=\"dataframe\">\n",
       "  <thead>\n",
       "    <tr style=\"text-align: right;\">\n",
       "      <th>PerformanceScore</th>\n",
       "      <th>Exceeds</th>\n",
       "      <th>Fully Meets</th>\n",
       "      <th>Needs Improvement</th>\n",
       "      <th>PIP</th>\n",
       "      <th>ex_rate</th>\n",
       "      <th>fm_rate</th>\n",
       "      <th>ni_rate</th>\n",
       "      <th>pip_rate</th>\n",
       "    </tr>\n",
       "    <tr>\n",
       "      <th>ManagerName</th>\n",
       "      <th></th>\n",
       "      <th></th>\n",
       "      <th></th>\n",
       "      <th></th>\n",
       "      <th></th>\n",
       "      <th></th>\n",
       "      <th></th>\n",
       "      <th></th>\n",
       "    </tr>\n",
       "  </thead>\n",
       "  <tbody>\n",
       "    <tr>\n",
       "      <th>Alex Sweetwater</th>\n",
       "      <td>2.0</td>\n",
       "      <td>6.0</td>\n",
       "      <td>1.0</td>\n",
       "      <td>0.0</td>\n",
       "      <td>0.222222</td>\n",
       "      <td>0.666667</td>\n",
       "      <td>0.111111</td>\n",
       "      <td>0.000000</td>\n",
       "    </tr>\n",
       "    <tr>\n",
       "      <th>Amy Dunn</th>\n",
       "      <td>3.0</td>\n",
       "      <td>15.0</td>\n",
       "      <td>1.0</td>\n",
       "      <td>2.0</td>\n",
       "      <td>0.142857</td>\n",
       "      <td>0.714286</td>\n",
       "      <td>0.047619</td>\n",
       "      <td>0.095238</td>\n",
       "    </tr>\n",
       "    <tr>\n",
       "      <th>Board of Directors</th>\n",
       "      <td>0.0</td>\n",
       "      <td>2.0</td>\n",
       "      <td>0.0</td>\n",
       "      <td>0.0</td>\n",
       "      <td>0.000000</td>\n",
       "      <td>1.000000</td>\n",
       "      <td>0.000000</td>\n",
       "      <td>0.000000</td>\n",
       "    </tr>\n",
       "    <tr>\n",
       "      <th>Brandon R. LeBlanc</th>\n",
       "      <td>0.0</td>\n",
       "      <td>7.0</td>\n",
       "      <td>0.0</td>\n",
       "      <td>0.0</td>\n",
       "      <td>0.000000</td>\n",
       "      <td>1.000000</td>\n",
       "      <td>0.000000</td>\n",
       "      <td>0.000000</td>\n",
       "    </tr>\n",
       "    <tr>\n",
       "      <th>Brannon Miller</th>\n",
       "      <td>7.0</td>\n",
       "      <td>9.0</td>\n",
       "      <td>1.0</td>\n",
       "      <td>4.0</td>\n",
       "      <td>0.333333</td>\n",
       "      <td>0.428571</td>\n",
       "      <td>0.047619</td>\n",
       "      <td>0.190476</td>\n",
       "    </tr>\n",
       "  </tbody>\n",
       "</table>\n",
       "</div>"
      ],
      "text/plain": [
       "PerformanceScore    Exceeds  Fully Meets  Needs Improvement  PIP   ex_rate  \\\n",
       "ManagerName                                                                  \n",
       "Alex Sweetwater         2.0          6.0                1.0  0.0  0.222222   \n",
       "Amy Dunn                3.0         15.0                1.0  2.0  0.142857   \n",
       "Board of Directors      0.0          2.0                0.0  0.0  0.000000   \n",
       "Brandon R. LeBlanc      0.0          7.0                0.0  0.0  0.000000   \n",
       "Brannon Miller          7.0          9.0                1.0  4.0  0.333333   \n",
       "\n",
       "PerformanceScore     fm_rate   ni_rate  pip_rate  \n",
       "ManagerName                                       \n",
       "Alex Sweetwater     0.666667  0.111111  0.000000  \n",
       "Amy Dunn            0.714286  0.047619  0.095238  \n",
       "Board of Directors  1.000000  0.000000  0.000000  \n",
       "Brandon R. LeBlanc  1.000000  0.000000  0.000000  \n",
       "Brannon Miller      0.428571  0.047619  0.190476  "
      ]
     },
     "execution_count": 9,
     "metadata": {},
     "output_type": "execute_result"
    }
   ],
   "source": [
    "manager_score[['ex_rate', 'fm_rate', 'ni_rate', 'pip_rate']] = manager_score[\n",
    "    ['Exceeds', 'Fully Meets', 'Needs Improvement', 'PIP']\n",
    "].apply(lambda x: x / x.sum(), axis=1)\n",
    "\n",
    "manager_score.head()"
   ]
  },
  {
   "cell_type": "code",
   "execution_count": 10,
   "id": "def917f3",
   "metadata": {},
   "outputs": [
    {
     "data": {
      "text/plain": [
       "<AxesSubplot:xlabel='PerformanceScore', ylabel='ManagerName'>"
      ]
     },
     "execution_count": 10,
     "metadata": {},
     "output_type": "execute_result"
    },
    {
     "data": {
      "image/png": "[encoded data removed]",
      "text/plain": [
       "<Figure size 360x360 with 2 Axes>"
      ]
     },
     "metadata": {
      "needs_background": "light"
     },
     "output_type": "display_data"
    }
   ],
   "source": [
    "plt.figure(figsize=(5,5))\n",
    "sns.heatmap(manager_score[['ex_rate', 'fm_rate', 'ni_rate', 'pip_rate']])"
   ]
  },
  {
   "cell_type": "code",
   "execution_count": 11,
   "id": "8343c574",
   "metadata": {},
   "outputs": [
    {
     "data": {
      "text/html": [
       "<div>\n",
       "<style scoped>\n",
       "    .dataframe tbody tr th:only-of-type {\n",
       "        vertical-align: middle;\n",
       "    }\n",
       "\n",
       "    .dataframe tbody tr th {\n",
       "        vertical-align: top;\n",
       "    }\n",
       "\n",
       "    .dataframe thead th {\n",
       "        text-align: right;\n",
       "    }\n",
       "</style>\n",
       "<table border=\"1\" class=\"dataframe\">\n",
       "  <thead>\n",
       "    <tr style=\"text-align: right;\">\n",
       "      <th>PerformanceScore</th>\n",
       "      <th>Exceeds</th>\n",
       "      <th>Fully Meets</th>\n",
       "      <th>Needs Improvement</th>\n",
       "      <th>PIP</th>\n",
       "      <th>ex_rate</th>\n",
       "      <th>fm_rate</th>\n",
       "      <th>ni_rate</th>\n",
       "      <th>pip_rate</th>\n",
       "      <th>no_of_subordinates</th>\n",
       "    </tr>\n",
       "    <tr>\n",
       "      <th>ManagerName</th>\n",
       "      <th></th>\n",
       "      <th></th>\n",
       "      <th></th>\n",
       "      <th></th>\n",
       "      <th></th>\n",
       "      <th></th>\n",
       "      <th></th>\n",
       "      <th></th>\n",
       "      <th></th>\n",
       "    </tr>\n",
       "  </thead>\n",
       "  <tbody>\n",
       "    <tr>\n",
       "      <th>Alex Sweetwater</th>\n",
       "      <td>2.0</td>\n",
       "      <td>6.0</td>\n",
       "      <td>1.0</td>\n",
       "      <td>0.0</td>\n",
       "      <td>0.222222</td>\n",
       "      <td>0.666667</td>\n",
       "      <td>0.111111</td>\n",
       "      <td>0.000000</td>\n",
       "      <td>9.0</td>\n",
       "    </tr>\n",
       "    <tr>\n",
       "      <th>Amy Dunn</th>\n",
       "      <td>3.0</td>\n",
       "      <td>15.0</td>\n",
       "      <td>1.0</td>\n",
       "      <td>2.0</td>\n",
       "      <td>0.142857</td>\n",
       "      <td>0.714286</td>\n",
       "      <td>0.047619</td>\n",
       "      <td>0.095238</td>\n",
       "      <td>21.0</td>\n",
       "    </tr>\n",
       "    <tr>\n",
       "      <th>Board of Directors</th>\n",
       "      <td>0.0</td>\n",
       "      <td>2.0</td>\n",
       "      <td>0.0</td>\n",
       "      <td>0.0</td>\n",
       "      <td>0.000000</td>\n",
       "      <td>1.000000</td>\n",
       "      <td>0.000000</td>\n",
       "      <td>0.000000</td>\n",
       "      <td>2.0</td>\n",
       "    </tr>\n",
       "    <tr>\n",
       "      <th>Brandon R. LeBlanc</th>\n",
       "      <td>0.0</td>\n",
       "      <td>7.0</td>\n",
       "      <td>0.0</td>\n",
       "      <td>0.0</td>\n",
       "      <td>0.000000</td>\n",
       "      <td>1.000000</td>\n",
       "      <td>0.000000</td>\n",
       "      <td>0.000000</td>\n",
       "      <td>7.0</td>\n",
       "    </tr>\n",
       "    <tr>\n",
       "      <th>Brannon Miller</th>\n",
       "      <td>7.0</td>\n",
       "      <td>9.0</td>\n",
       "      <td>1.0</td>\n",
       "      <td>4.0</td>\n",
       "      <td>0.333333</td>\n",
       "      <td>0.428571</td>\n",
       "      <td>0.047619</td>\n",
       "      <td>0.190476</td>\n",
       "      <td>21.0</td>\n",
       "    </tr>\n",
       "  </tbody>\n",
       "</table>\n",
       "</div>"
      ],
      "text/plain": [
       "PerformanceScore    Exceeds  Fully Meets  Needs Improvement  PIP   ex_rate  \\\n",
       "ManagerName                                                                  \n",
       "Alex Sweetwater         2.0          6.0                1.0  0.0  0.222222   \n",
       "Amy Dunn                3.0         15.0                1.0  2.0  0.142857   \n",
       "Board of Directors      0.0          2.0                0.0  0.0  0.000000   \n",
       "Brandon R. LeBlanc      0.0          7.0                0.0  0.0  0.000000   \n",
       "Brannon Miller          7.0          9.0                1.0  4.0  0.333333   \n",
       "\n",
       "PerformanceScore     fm_rate   ni_rate  pip_rate  no_of_subordinates  \n",
       "ManagerName                                                           \n",
       "Alex Sweetwater     0.666667  0.111111  0.000000                 9.0  \n",
       "Amy Dunn            0.714286  0.047619  0.095238                21.0  \n",
       "Board of Directors  1.000000  0.000000  0.000000                 2.0  \n",
       "Brandon R. LeBlanc  1.000000  0.000000  0.000000                 7.0  \n",
       "Brannon Miller      0.428571  0.047619  0.190476                21.0  "
      ]
     },
     "execution_count": 11,
     "metadata": {},
     "output_type": "execute_result"
    }
   ],
   "source": [
    "manager_score['no_of_subordinates'] = manager_score.apply(\n",
    "    lambda row: row[['Exceeds', 'Fully Meets', 'Needs Improvement', 'PIP']].sum(), axis=1\n",
    ")\n",
    "\n",
    "manager_score.head()"
   ]
  },
  {
   "cell_type": "code",
   "execution_count": 12,
   "id": "81508ef3",
   "metadata": {},
   "outputs": [
    {
     "data": {
      "text/plain": [
       "(array([ 0,  1,  2,  3,  4,  5,  6,  7,  8,  9, 10, 11, 12, 13, 14, 15, 16,\n",
       "        17, 18, 19, 20]),\n",
       " [Text(0, 0, 'Alex Sweetwater'),\n",
       "  Text(1, 0, 'Amy Dunn'),\n",
       "  Text(2, 0, 'Board of Directors'),\n",
       "  Text(3, 0, 'Brandon R. LeBlanc'),\n",
       "  Text(4, 0, 'Brannon Miller'),\n",
       "  Text(5, 0, 'Brian Champaigne'),\n",
       "  Text(6, 0, 'David Stanley'),\n",
       "  Text(7, 0, 'Debra Houlihan'),\n",
       "  Text(8, 0, 'Elijiah Gray'),\n",
       "  Text(9, 0, 'Eric Dougall'),\n",
       "  Text(10, 0, 'Janet King'),\n",
       "  Text(11, 0, 'Jennifer Zamora'),\n",
       "  Text(12, 0, 'John Smith'),\n",
       "  Text(13, 0, 'Kelley Spirea'),\n",
       "  Text(14, 0, 'Ketsia Liebig'),\n",
       "  Text(15, 0, 'Kissy Sullivan'),\n",
       "  Text(16, 0, 'Lynn Daneault'),\n",
       "  Text(17, 0, 'Michael Albert'),\n",
       "  Text(18, 0, 'Peter Monroe'),\n",
       "  Text(19, 0, 'Simon Roup'),\n",
       "  Text(20, 0, 'Webster Butler')])"
      ]
     },
     "execution_count": 12,
     "metadata": {},
     "output_type": "execute_result"
    },
    {
     "data": {
      "image/png": "[encoded data removed]",
      "text/plain": [
       "<Figure size 1080x360 with 1 Axes>"
      ]
     },
     "metadata": {
      "needs_background": "light"
     },
     "output_type": "display_data"
    }
   ],
   "source": [
    "plt.figure(figsize=(15,5))\n",
    "sns.barplot(x=manager_score.index, y=manager_score['no_of_subordinates'])\n",
    "\n",
    "plt.xticks(rotation=90)"
   ]
  },
  {
   "cell_type": "code",
   "execution_count": 14,
   "id": "e0086884",
   "metadata": {},
   "outputs": [],
   "source": [
    "big_teams = manager_score[manager_score['no_of_subordinates'] >= 10]\n",
    "medium_teams = manager_score[\n",
    "    (manager_score['no_of_subordinates'] < 10) & (manager_score['no_of_subordinates'] >= 5)]\n",
    "small_teams = manager_score[manager_score['no_of_subordinates'] < 5]"
   ]
  },
  {
   "cell_type": "code",
   "execution_count": 15,
   "id": "4eee16e6",
   "metadata": {},
   "outputs": [
    {
     "data": {
      "text/plain": [
       "<AxesSubplot:xlabel='PerformanceScore', ylabel='ManagerName'>"
      ]
     },
     "execution_count": 15,
     "metadata": {},
     "output_type": "execute_result"
    },
    {
     "data": {
      "image/png": "[encoded data removed]",
      "text/plain": [
       "<Figure size 360x360 with 2 Axes>"
      ]
     },
     "metadata": {
      "needs_background": "light"
     },
     "output_type": "display_data"
    }
   ],
   "source": [
    "plt.figure(figsize=(5,5))\n",
    "sns.heatmap(big_teams[['ex_rate', 'fm_rate', 'ni_rate', 'pip_rate']])"
   ]
  },
  {
   "cell_type": "code",
   "execution_count": 16,
   "id": "c74f2862",
   "metadata": {},
   "outputs": [
    {
     "data": {
      "text/plain": [
       "<AxesSubplot:xlabel='PerformanceScore', ylabel='ManagerName'>"
      ]
     },
     "execution_count": 16,
     "metadata": {},
     "output_type": "execute_result"
    },
    {
     "data": {
      "image/png": "[encoded data removed]",
      "text/plain": [
       "<Figure size 360x360 with 2 Axes>"
      ]
     },
     "metadata": {
      "needs_background": "light"
     },
     "output_type": "display_data"
    }
   ],
   "source": [
    "plt.figure(figsize=(5,5))\n",
    "sns.heatmap(medium_teams[['ex_rate', 'fm_rate', 'ni_rate', 'pip_rate']])"
   ]
  },
  {
   "cell_type": "code",
   "execution_count": 17,
   "id": "bf682e08",
   "metadata": {},
   "outputs": [
    {
     "data": {
      "text/plain": [
       "<AxesSubplot:xlabel='PerformanceScore', ylabel='ManagerName'>"
      ]
     },
     "execution_count": 17,
     "metadata": {},
     "output_type": "execute_result"
    },
    {
     "data": {
      "image/png": "[encoded data removed]",
      "text/plain": [
       "<Figure size 360x360 with 2 Axes>"
      ]
     },
     "metadata": {
      "needs_background": "light"
     },
     "output_type": "display_data"
    }
   ],
   "source": [
    "plt.figure(figsize=(5,5))\n",
    "sns.heatmap(small_teams[['ex_rate', 'fm_rate', 'ni_rate', 'pip_rate']])"
   ]
  },
  {
   "cell_type": "code",
   "execution_count": 18,
   "id": "76ca0abb",
   "metadata": {},
   "outputs": [
    {
     "data": {
      "text/html": [
       "<div>\n",
       "<style scoped>\n",
       "    .dataframe tbody tr th:only-of-type {\n",
       "        vertical-align: middle;\n",
       "    }\n",
       "\n",
       "    .dataframe tbody tr th {\n",
       "        vertical-align: top;\n",
       "    }\n",
       "\n",
       "    .dataframe thead th {\n",
       "        text-align: right;\n",
       "    }\n",
       "</style>\n",
       "<table border=\"1\" class=\"dataframe\">\n",
       "  <thead>\n",
       "    <tr style=\"text-align: right;\">\n",
       "      <th>PerformanceScore</th>\n",
       "      <th>ex_rate</th>\n",
       "      <th>fm_rate</th>\n",
       "      <th>ni_rate</th>\n",
       "      <th>pip_rate</th>\n",
       "    </tr>\n",
       "    <tr>\n",
       "      <th>ManagerName</th>\n",
       "      <th></th>\n",
       "      <th></th>\n",
       "      <th></th>\n",
       "      <th></th>\n",
       "    </tr>\n",
       "  </thead>\n",
       "  <tbody>\n",
       "    <tr>\n",
       "      <th>Amy Dunn</th>\n",
       "      <td>0.142857</td>\n",
       "      <td>0.714286</td>\n",
       "      <td>0.047619</td>\n",
       "      <td>0.095238</td>\n",
       "    </tr>\n",
       "    <tr>\n",
       "      <th>Brannon Miller</th>\n",
       "      <td>0.333333</td>\n",
       "      <td>0.428571</td>\n",
       "      <td>0.047619</td>\n",
       "      <td>0.190476</td>\n",
       "    </tr>\n",
       "    <tr>\n",
       "      <th>David Stanley</th>\n",
       "      <td>0.047619</td>\n",
       "      <td>0.904762</td>\n",
       "      <td>0.047619</td>\n",
       "      <td>0.000000</td>\n",
       "    </tr>\n",
       "    <tr>\n",
       "      <th>Elijiah Gray</th>\n",
       "      <td>0.090909</td>\n",
       "      <td>0.818182</td>\n",
       "      <td>0.090909</td>\n",
       "      <td>0.000000</td>\n",
       "    </tr>\n",
       "    <tr>\n",
       "      <th>Janet King</th>\n",
       "      <td>0.210526</td>\n",
       "      <td>0.684211</td>\n",
       "      <td>0.105263</td>\n",
       "      <td>0.000000</td>\n",
       "    </tr>\n",
       "    <tr>\n",
       "      <th>John Smith</th>\n",
       "      <td>0.000000</td>\n",
       "      <td>0.857143</td>\n",
       "      <td>0.000000</td>\n",
       "      <td>0.142857</td>\n",
       "    </tr>\n",
       "    <tr>\n",
       "      <th>Kelley Spirea</th>\n",
       "      <td>0.136364</td>\n",
       "      <td>0.818182</td>\n",
       "      <td>0.045455</td>\n",
       "      <td>0.000000</td>\n",
       "    </tr>\n",
       "    <tr>\n",
       "      <th>Ketsia Liebig</th>\n",
       "      <td>0.095238</td>\n",
       "      <td>0.857143</td>\n",
       "      <td>0.047619</td>\n",
       "      <td>0.000000</td>\n",
       "    </tr>\n",
       "    <tr>\n",
       "      <th>Kissy Sullivan</th>\n",
       "      <td>0.090909</td>\n",
       "      <td>0.818182</td>\n",
       "      <td>0.045455</td>\n",
       "      <td>0.045455</td>\n",
       "    </tr>\n",
       "    <tr>\n",
       "      <th>Lynn Daneault</th>\n",
       "      <td>0.153846</td>\n",
       "      <td>0.769231</td>\n",
       "      <td>0.000000</td>\n",
       "      <td>0.076923</td>\n",
       "    </tr>\n",
       "    <tr>\n",
       "      <th>Michael Albert</th>\n",
       "      <td>0.090909</td>\n",
       "      <td>0.727273</td>\n",
       "      <td>0.136364</td>\n",
       "      <td>0.045455</td>\n",
       "    </tr>\n",
       "    <tr>\n",
       "      <th>Peter Monroe</th>\n",
       "      <td>0.000000</td>\n",
       "      <td>0.928571</td>\n",
       "      <td>0.000000</td>\n",
       "      <td>0.071429</td>\n",
       "    </tr>\n",
       "    <tr>\n",
       "      <th>Simon Roup</th>\n",
       "      <td>0.117647</td>\n",
       "      <td>0.882353</td>\n",
       "      <td>0.000000</td>\n",
       "      <td>0.000000</td>\n",
       "    </tr>\n",
       "    <tr>\n",
       "      <th>Webster Butler</th>\n",
       "      <td>0.095238</td>\n",
       "      <td>0.809524</td>\n",
       "      <td>0.095238</td>\n",
       "      <td>0.000000</td>\n",
       "    </tr>\n",
       "  </tbody>\n",
       "</table>\n",
       "</div>"
      ],
      "text/plain": [
       "PerformanceScore   ex_rate   fm_rate   ni_rate  pip_rate\n",
       "ManagerName                                             \n",
       "Amy Dunn          0.142857  0.714286  0.047619  0.095238\n",
       "Brannon Miller    0.333333  0.428571  0.047619  0.190476\n",
       "David Stanley     0.047619  0.904762  0.047619  0.000000\n",
       "Elijiah Gray      0.090909  0.818182  0.090909  0.000000\n",
       "Janet King        0.210526  0.684211  0.105263  0.000000\n",
       "John Smith        0.000000  0.857143  0.000000  0.142857\n",
       "Kelley Spirea     0.136364  0.818182  0.045455  0.000000\n",
       "Ketsia Liebig     0.095238  0.857143  0.047619  0.000000\n",
       "Kissy Sullivan    0.090909  0.818182  0.045455  0.045455\n",
       "Lynn Daneault     0.153846  0.769231  0.000000  0.076923\n",
       "Michael Albert    0.090909  0.727273  0.136364  0.045455\n",
       "Peter Monroe      0.000000  0.928571  0.000000  0.071429\n",
       "Simon Roup        0.117647  0.882353  0.000000  0.000000\n",
       "Webster Butler    0.095238  0.809524  0.095238  0.000000"
      ]
     },
     "execution_count": 18,
     "metadata": {},
     "output_type": "execute_result"
    }
   ],
   "source": [
    "big_teams[['ex_rate', 'fm_rate', 'ni_rate', 'pip_rate']]"
   ]
  },
  {
   "cell_type": "code",
   "execution_count": 19,
   "id": "bf278198",
   "metadata": {},
   "outputs": [
    {
     "data": {
      "text/html": [
       "<div>\n",
       "<style scoped>\n",
       "    .dataframe tbody tr th:only-of-type {\n",
       "        vertical-align: middle;\n",
       "    }\n",
       "\n",
       "    .dataframe tbody tr th {\n",
       "        vertical-align: top;\n",
       "    }\n",
       "\n",
       "    .dataframe thead th {\n",
       "        text-align: right;\n",
       "    }\n",
       "</style>\n",
       "<table border=\"1\" class=\"dataframe\">\n",
       "  <thead>\n",
       "    <tr style=\"text-align: right;\">\n",
       "      <th>PerformanceScore</th>\n",
       "      <th>ex_rate</th>\n",
       "      <th>fm_rate</th>\n",
       "      <th>ni_rate</th>\n",
       "      <th>pip_rate</th>\n",
       "    </tr>\n",
       "    <tr>\n",
       "      <th>ManagerName</th>\n",
       "      <th></th>\n",
       "      <th></th>\n",
       "      <th></th>\n",
       "      <th></th>\n",
       "    </tr>\n",
       "  </thead>\n",
       "  <tbody>\n",
       "    <tr>\n",
       "      <th>Alex Sweetwater</th>\n",
       "      <td>0.222222</td>\n",
       "      <td>0.666667</td>\n",
       "      <td>0.111111</td>\n",
       "      <td>0.0</td>\n",
       "    </tr>\n",
       "    <tr>\n",
       "      <th>Brandon R. LeBlanc</th>\n",
       "      <td>0.000000</td>\n",
       "      <td>1.000000</td>\n",
       "      <td>0.000000</td>\n",
       "      <td>0.0</td>\n",
       "    </tr>\n",
       "    <tr>\n",
       "      <th>Brian Champaigne</th>\n",
       "      <td>0.000000</td>\n",
       "      <td>1.000000</td>\n",
       "      <td>0.000000</td>\n",
       "      <td>0.0</td>\n",
       "    </tr>\n",
       "    <tr>\n",
       "      <th>Jennifer Zamora</th>\n",
       "      <td>0.285714</td>\n",
       "      <td>0.571429</td>\n",
       "      <td>0.142857</td>\n",
       "      <td>0.0</td>\n",
       "    </tr>\n",
       "  </tbody>\n",
       "</table>\n",
       "</div>"
      ],
      "text/plain": [
       "PerformanceScore     ex_rate   fm_rate   ni_rate  pip_rate\n",
       "ManagerName                                               \n",
       "Alex Sweetwater     0.222222  0.666667  0.111111       0.0\n",
       "Brandon R. LeBlanc  0.000000  1.000000  0.000000       0.0\n",
       "Brian Champaigne    0.000000  1.000000  0.000000       0.0\n",
       "Jennifer Zamora     0.285714  0.571429  0.142857       0.0"
      ]
     },
     "execution_count": 19,
     "metadata": {},
     "output_type": "execute_result"
    }
   ],
   "source": [
    "medium_teams[['ex_rate', 'fm_rate', 'ni_rate', 'pip_rate']]"
   ]
  },
  {
   "cell_type": "code",
   "execution_count": 20,
   "id": "8c57e5ed",
   "metadata": {},
   "outputs": [
    {
     "data": {
      "text/plain": [
       "ManagerName\n",
       "Board of Directors    2.0\n",
       "Debra Houlihan        3.0\n",
       "Eric Dougall          4.0\n",
       "Name: no_of_subordinates, dtype: float64"
      ]
     },
     "execution_count": 20,
     "metadata": {},
     "output_type": "execute_result"
    }
   ],
   "source": [
    "small_teams['no_of_subordinates']"
   ]
  },
  {
   "cell_type": "markdown",
   "id": "ac670a99",
   "metadata": {},
   "source": [
    "### Jakie źródła pozyskania pracownika (Recruitment Source) są najlepsze, jeśli zależy nam na jak najdłuższym stażu pracowników?"
   ]
  },
  {
   "cell_type": "code",
   "execution_count": 21,
   "id": "5e682be6",
   "metadata": {},
   "outputs": [],
   "source": [
    "def calc_seniority(row):\n",
    "\n",
    "    if pd.isnull(row['DateofTermination']):\n",
    "        end_date = dt.datetime(2019,9,27)  # according to data description, this is a database last update day\n",
    "    else:\n",
    "        end_date = row['DateofTermination']\n",
    "\n",
    "    return (end_date-row['DateofHire']) / np.timedelta64(1, 'Y')"
   ]
  },
  {
   "cell_type": "code",
   "execution_count": 22,
   "id": "74029729",
   "metadata": {},
   "outputs": [],
   "source": [
    "df['Seniority'] = df.apply(lambda row: calc_seniority(row), axis=1)"
   ]
  },
  {
   "cell_type": "code",
   "execution_count": 23,
   "id": "290b8b7e",
   "metadata": {},
   "outputs": [
    {
     "data": {
      "text/plain": [
       "(array([ 0,  1,  2,  3,  4,  5,  6,  7,  8,  9, 10, 11, 12, 13, 14, 15, 16,\n",
       "        17, 18, 19, 20, 21, 22]),\n",
       " [Text(0, 0, 'Diversity Job Fair'),\n",
       "  Text(1, 0, 'Website Banner Ads'),\n",
       "  Text(2, 0, 'Internet Search'),\n",
       "  Text(3, 0, 'Pay Per Click - Google'),\n",
       "  Text(4, 0, 'Social Networks - Facebook Twitter etc'),\n",
       "  Text(5, 0, 'Billboard'),\n",
       "  Text(6, 0, 'Monster.com'),\n",
       "  Text(7, 0, 'Newspager/Magazine'),\n",
       "  Text(8, 0, 'Professional Society'),\n",
       "  Text(9, 0, 'Other'),\n",
       "  Text(10, 0, 'Employee Referral'),\n",
       "  Text(11, 0, 'Indeed'),\n",
       "  Text(12, 0, 'Search Engine - Google Bing Yahoo'),\n",
       "  Text(13, 0, 'Glassdoor'),\n",
       "  Text(14, 0, 'Vendor Referral'),\n",
       "  Text(15, 0, 'MBTA ads'),\n",
       "  Text(16, 0, 'Information Session'),\n",
       "  Text(17, 0, 'Word of Mouth'),\n",
       "  Text(18, 0, 'Pay Per Click'),\n",
       "  Text(19, 0, 'On-campus Recruiting'),\n",
       "  Text(20, 0, 'On-line Web application'),\n",
       "  Text(21, 0, 'Careerbuilder'),\n",
       "  Text(22, 0, 'Company Intranet - Partner')])"
      ]
     },
     "execution_count": 23,
     "metadata": {},
     "output_type": "execute_result"
    },
    {
     "data": {
      "image/png": "[encoded data removed]",
      "text/plain": [
       "<Figure size 1080x360 with 1 Axes>"
      ]
     },
     "metadata": {
      "needs_background": "light"
     },
     "output_type": "display_data"
    }
   ],
   "source": [
    "plt.figure(figsize=(15,5))\n",
    "sns.barplot(x=df['RecruitmentSource'], y=df['Seniority'], data=df)\n",
    "\n",
    "plt.xticks(rotation=90)"
   ]
  },
  {
   "cell_type": "code",
   "execution_count": 24,
   "id": "553e5495",
   "metadata": {},
   "outputs": [
    {
     "data": {
      "text/plain": [
       "(array([ 0,  1,  2,  3,  4,  5,  6,  7,  8,  9, 10, 11, 12, 13, 14, 15, 16,\n",
       "        17, 18, 19, 20, 21, 22]),\n",
       " [Text(0, 0, 'Diversity Job Fair'),\n",
       "  Text(1, 0, 'Website Banner Ads'),\n",
       "  Text(2, 0, 'Internet Search'),\n",
       "  Text(3, 0, 'Pay Per Click - Google'),\n",
       "  Text(4, 0, 'Social Networks - Facebook Twitter etc'),\n",
       "  Text(5, 0, 'Billboard'),\n",
       "  Text(6, 0, 'Monster.com'),\n",
       "  Text(7, 0, 'Newspager/Magazine'),\n",
       "  Text(8, 0, 'Professional Society'),\n",
       "  Text(9, 0, 'Other'),\n",
       "  Text(10, 0, 'Employee Referral'),\n",
       "  Text(11, 0, 'Indeed'),\n",
       "  Text(12, 0, 'Search Engine - Google Bing Yahoo'),\n",
       "  Text(13, 0, 'Glassdoor'),\n",
       "  Text(14, 0, 'Vendor Referral'),\n",
       "  Text(15, 0, 'MBTA ads'),\n",
       "  Text(16, 0, 'Information Session'),\n",
       "  Text(17, 0, 'Word of Mouth'),\n",
       "  Text(18, 0, 'Pay Per Click'),\n",
       "  Text(19, 0, 'On-campus Recruiting'),\n",
       "  Text(20, 0, 'On-line Web application'),\n",
       "  Text(21, 0, 'Careerbuilder'),\n",
       "  Text(22, 0, 'Company Intranet - Partner')])"
      ]
     },
     "execution_count": 24,
     "metadata": {},
     "output_type": "execute_result"
    },
    {
     "data": {
      "image/png": "[encoded data removed]",
      "text/plain": [
       "<Figure size 1080x360 with 1 Axes>"
      ]
     },
     "metadata": {
      "needs_background": "light"
     },
     "output_type": "display_data"
    }
   ],
   "source": [
    "plt.figure(figsize=(15,5))\n",
    "sns.barplot(x=df['RecruitmentSource'], y=df['Seniority'], data=df, estimator=np.median)\n",
    "\n",
    "plt.xticks(rotation=90)"
   ]
  },
  {
   "cell_type": "code",
   "execution_count": 25,
   "id": "dc5ea2ad",
   "metadata": {},
   "outputs": [
    {
     "data": {
      "text/plain": [
       "RecruitmentSource\n",
       "Employee Referral                         31\n",
       "Diversity Job Fair                        29\n",
       "Search Engine - Google Bing Yahoo         25\n",
       "Monster.com                               24\n",
       "Pay Per Click - Google                    21\n",
       "Professional Society                      20\n",
       "Newspager/Magazine                        18\n",
       "MBTA ads                                  17\n",
       "Billboard                                 16\n",
       "Vendor Referral                           15\n",
       "Glassdoor                                 14\n",
       "Website Banner Ads                        13\n",
       "Word of Mouth                             13\n",
       "On-campus Recruiting                      12\n",
       "Social Networks - Facebook Twitter etc    11\n",
       "Other                                      9\n",
       "Indeed                                     8\n",
       "Internet Search                            6\n",
       "Information Session                        4\n",
       "Careerbuilder                              1\n",
       "On-line Web application                    1\n",
       "Pay Per Click                              1\n",
       "Company Intranet - Partner                 1\n",
       "dtype: int64"
      ]
     },
     "execution_count": 25,
     "metadata": {},
     "output_type": "execute_result"
    }
   ],
   "source": [
    "df.value_counts('RecruitmentSource')"
   ]
  },
  {
   "cell_type": "code",
   "execution_count": 26,
   "id": "1e0261d0",
   "metadata": {},
   "outputs": [
    {
     "data": {
      "text/plain": [
       "<AxesSubplot:xlabel='MaritalDesc', ylabel='EmpSatisfaction'>"
      ]
     },
     "execution_count": 26,
     "metadata": {},
     "output_type": "execute_result"
    },
    {
     "data": {
      "image/png": "[encoded data removed]",
      "text/plain": [
       "<Figure size 1080x360 with 1 Axes>"
      ]
     },
     "metadata": {
      "needs_background": "light"
     },
     "output_type": "display_data"
    }
   ],
   "source": [
    "plt.figure(figsize=(15,5))\n",
    "sns.barplot(x=df['MaritalDesc'], y=df['EmpSatisfaction'], data=df)"
   ]
  },
  {
   "cell_type": "code",
   "execution_count": 27,
   "id": "e93b84bd",
   "metadata": {},
   "outputs": [
    {
     "data": {
      "text/plain": [
       "<AxesSubplot:xlabel='MaritalDesc', ylabel='EmpSatisfaction'>"
      ]
     },
     "execution_count": 27,
     "metadata": {},
     "output_type": "execute_result"
    },
    {
     "data": {
      "image/png": "[encoded data removed]",
      "text/plain": [
       "<Figure size 1080x360 with 1 Axes>"
      ]
     },
     "metadata": {
      "needs_background": "light"
     },
     "output_type": "display_data"
    }
   ],
   "source": [
    "plt.figure(figsize=(15,5))\n",
    "sns.barplot(x=df['MaritalDesc'], y=df['EmpSatisfaction'], data=df, estimator=np.median)"
   ]
  },
  {
   "cell_type": "markdown",
   "id": "6ab4bcf9",
   "metadata": {},
   "source": [
    "### Jak wygląda struktura wieku aktualnie zatrudnionych pracowników?"
   ]
  },
  {
   "cell_type": "code",
   "execution_count": 50,
   "id": "c2950582",
   "metadata": {},
   "outputs": [],
   "source": [
    "df['Age'] = df['DOB'].apply(lambda x: (dt.datetime(2019,9,27)-x) / np.timedelta64(1, 'Y'))"
   ]
  },
  {
   "cell_type": "code",
   "execution_count": 44,
   "id": "8be56b33",
   "metadata": {},
   "outputs": [
    {
     "data": {
      "text/plain": [
       "count    310.000000\n",
       "mean      27.118607\n",
       "std       28.361105\n",
       "min      -49.038652\n",
       "25%       31.254577\n",
       "50%       35.852892\n",
       "75%       41.759927\n",
       "max       50.629376\n",
       "Name: Age, dtype: float64"
      ]
     },
     "execution_count": 44,
     "metadata": {},
     "output_type": "execute_result"
    }
   ],
   "source": [
    "df['Age'].describe()"
   ]
  },
  {
   "cell_type": "markdown",
   "id": "905735b4",
   "metadata": {},
   "source": [
    "Ponieważ 'Age' zawiera wartości ujemne, pomijam je tylko do analizy struktury wieku"
   ]
  },
  {
   "cell_type": "code",
   "execution_count": 62,
   "id": "9da91c6f",
   "metadata": {},
   "outputs": [
    {
     "data": {
      "text/plain": [
       "count    268.000000\n",
       "mean      37.854478\n",
       "std        6.032783\n",
       "min       27.000000\n",
       "25%       33.000000\n",
       "50%       37.000000\n",
       "75%       42.250000\n",
       "max       50.000000\n",
       "Name: Age, dtype: float64"
      ]
     },
     "execution_count": 62,
     "metadata": {},
     "output_type": "execute_result"
    }
   ],
   "source": [
    "df_age_corr = df[df['Age'] > 0]\n",
    "df_age_corr['Age'].describe()"
   ]
  },
  {
   "cell_type": "code",
   "execution_count": 60,
   "id": "79ecf8f7",
   "metadata": {},
   "outputs": [
    {
     "data": {
      "text/html": [
       "<div>\n",
       "<style scoped>\n",
       "    .dataframe tbody tr th:only-of-type {\n",
       "        vertical-align: middle;\n",
       "    }\n",
       "\n",
       "    .dataframe tbody tr th {\n",
       "        vertical-align: top;\n",
       "    }\n",
       "\n",
       "    .dataframe thead th {\n",
       "        text-align: right;\n",
       "    }\n",
       "</style>\n",
       "<table border=\"1\" class=\"dataframe\">\n",
       "  <thead>\n",
       "    <tr style=\"text-align: right;\">\n",
       "      <th></th>\n",
       "      <th>count</th>\n",
       "      <th>mean</th>\n",
       "      <th>std</th>\n",
       "      <th>min</th>\n",
       "      <th>25%</th>\n",
       "      <th>50%</th>\n",
       "      <th>75%</th>\n",
       "      <th>max</th>\n",
       "    </tr>\n",
       "    <tr>\n",
       "      <th>Sex</th>\n",
       "      <th></th>\n",
       "      <th></th>\n",
       "      <th></th>\n",
       "      <th></th>\n",
       "      <th></th>\n",
       "      <th></th>\n",
       "      <th></th>\n",
       "      <th></th>\n",
       "    </tr>\n",
       "  </thead>\n",
       "  <tbody>\n",
       "    <tr>\n",
       "      <th>F</th>\n",
       "      <td>150.0</td>\n",
       "      <td>37.393333</td>\n",
       "      <td>6.196878</td>\n",
       "      <td>27.0</td>\n",
       "      <td>32.0</td>\n",
       "      <td>36.0</td>\n",
       "      <td>42.0</td>\n",
       "      <td>50.0</td>\n",
       "    </tr>\n",
       "    <tr>\n",
       "      <th>M</th>\n",
       "      <td>118.0</td>\n",
       "      <td>38.440678</td>\n",
       "      <td>5.790565</td>\n",
       "      <td>27.0</td>\n",
       "      <td>34.0</td>\n",
       "      <td>37.0</td>\n",
       "      <td>43.0</td>\n",
       "      <td>50.0</td>\n",
       "    </tr>\n",
       "  </tbody>\n",
       "</table>\n",
       "</div>"
      ],
      "text/plain": [
       "     count       mean       std   min   25%   50%   75%   max\n",
       "Sex                                                          \n",
       "F    150.0  37.393333  6.196878  27.0  32.0  36.0  42.0  50.0\n",
       "M    118.0  38.440678  5.790565  27.0  34.0  37.0  43.0  50.0"
      ]
     },
     "execution_count": 60,
     "metadata": {},
     "output_type": "execute_result"
    }
   ],
   "source": [
    "df_age_corr.groupby('Sex')['Age'].describe()"
   ]
  },
  {
   "cell_type": "code",
   "execution_count": 56,
   "id": "09a17263",
   "metadata": {},
   "outputs": [
    {
     "data": {
      "text/plain": [
       "<AxesSubplot:ylabel='Age'>"
      ]
     },
     "execution_count": 56,
     "metadata": {},
     "output_type": "execute_result"
    },
    {
     "data": {
      "image/png": "[encoded data removed]",
      "text/plain": [
       "<Figure size 432x288 with 1 Axes>"
      ]
     },
     "metadata": {
      "needs_background": "light"
     },
     "output_type": "display_data"
    }
   ],
   "source": [
    "sns.violinplot(x=['F M']*len(df_age_corr), y='Age', hue='Sex', data=df_age_corr, split='True')"
   ]
  },
  {
   "cell_type": "markdown",
   "id": "4cdca6c7",
   "metadata": {},
   "source": [
    "### Czy starsi pracownicy pracują nad większą liczbą specjalnych projektów niż młodsi pracownicy?"
   ]
  },
  {
   "cell_type": "code",
   "execution_count": 70,
   "id": "8b170439",
   "metadata": {},
   "outputs": [
    {
     "data": {
      "text/plain": [
       "<seaborn.axisgrid.JointGrid at 0x169d3a2d6a0>"
      ]
     },
     "execution_count": 70,
     "metadata": {},
     "output_type": "execute_result"
    },
    {
     "data": {
      "image/png": "[encoded data removed]",
      "text/plain": [
       "<Figure size 432x432 with 3 Axes>"
      ]
     },
     "metadata": {
      "needs_background": "light"
     },
     "output_type": "display_data"
    }
   ],
   "source": [
    "sns.jointplot(x='Age', y='SpecialProjectsCount', data=df_age_corr[df_age_corr['SpecialProjectsCount'] != 0])"
   ]
  },
  {
   "cell_type": "markdown",
   "id": "32ce8080",
   "metadata": {},
   "source": [
    "## Odpowiedzi\n",
    "<b>Czy istnieje zależność pomiędzy tym, kto jest bezpośrednim przełożonym (ManagerName, ManagerID) danego pracownika, a oceną wydajności pracy (PerformanceScore)?</b><br>\n",
    "Istnieje generalna przewaga w wydawaniu przez managerów ocen \"Fully Meets\", co może mieć sens o tyle, że w prawidłowo działającym przedsiębiorstwie większość zatrudnionych spełnia oczekiwania, a tylko nieliczni mają w tym obszarze trudności. U każdego z managerów ocena \"Fully Meets\" jest wystawiana najczęściej, jednak istnieją wśród nich różnice jeżeli chodzi o rozproszenie na inne wartości ocen. Ponieważ ilość podwładnych poszczególnych managerów jest zróżnicowana, to wzięta jest pod uwagę wielkość zarządzanych zespółów.<br>\n",
    "W takim ujęciu w dużych zespołach (10 i więcej podwładnych) największe rozproszenie ocen jest u Brannona Millera, u którego jest najniższy odsetek ocen \"Fully Meets\" (43%), ale jednocześnie najwyższy ocen \"Exceeds\" (33%) i \"PIP\" (19%); najmniej zróżnicowane profile ocen są u Davida Stanleya oraz Petera Monroe, u których odsetek ocen \"Fully Meets\" stanowi odpowiednio 91% i 92%.<br>\n",
    "W czterech zespołach średnich (od pięciu do dziewięciu podwładnych łącznie) dwóch managerów ocenia wszystkich swoich podwładnych notą \"Fully Meets\", pozostali dwaj dają oceny bardziej zróżnicowane. W zespołach małych natomiast (ponizej pięciu podwładnych), obydwoje managerów ocenianych przez Zarząd otrzymało ocenę \"Fully Meets\", pozostali managerowie udzielili bardziej zróżnicowanych ocen podwładnym.<br>\n",
    "\n",
    "<b>Jakie źródła pozyskania pracownika (Recruitment Source) są najlepsze, jeśli zależy nam na jak najdłuższym stażu pracowników?</b><br>\n",
    "Na podstawie danych trudno jest wskazać źródło pracowników pozostających najdłużej w firmie. Najdłuższy staż ma pracownik ze źródła \"Carreerbuilder\", ale jest to tylko jedna osoba. Można stwierdzić, że najsłabszy wynik pod tym kątem ma \"Indeed\", z przeciętnym okresem zatrudnienia poniżej trzech lat, przy czym z tego źródła zatrudnionych jest tylko ośmiu pracowników.<br>\n",
    "\n",
    "<b>Czy stan cywilny (MartialDesc) pracownika koreluje w jakikolwiek sposób z zadowoleniem z pracy (EmpSatisfaction)?</b><br>\n",
    "Dane nie wskazują, aby stan cywilny wpływał na przeciętną ocenę zadowolenia z pracy. Widać jedynie tendencję większego niż w pozostałych grupach zróżnicowania ocen wśród pracowników pozostających w separacji.<br>\n",
    "\n",
    "<b>Jak wygląda struktura wieku aktualnie zatrudnionych pracowników?<b><br>\n",
    "Średni wiek pracowników to 38 lat, najmłodszy ma 27, a najstarszy 50 lat. Nie jest widoczna istotna różnica struktury wieku między kobietami a mężczyznami - przy tej samej dolnej i górnej granicy wieku, średnia wieku kobiet jest niższa o rok niż w grupie mężczyzn i wynosi 37 lat.<br>\n",
    "\n",
    "<b>Czy starsi pracownicy pracują nad większą liczbą specjalnych projektów niż młodsi pracownicy?</b><br>\n",
    "Rozkład ilości projektów specjalnych jest przesunięty w kierunku młodszych pracowników, ale ma to raczej związek z samym rozkładem wieku pracowników. Nie można natomiast powiedzieć, że istnieje związek między wiekiem pracowników i ilością projektów specjalnych, w jakie są zaangażowani. "
   ]
  }
 ],
 "metadata": {
  "kernelspec": {
   "display_name": "Python 3",
   "language": "python",
   "name": "python3"
  },
  "language_info": {
   "codemirror_mode": {
    "name": "ipython",
    "version": 3
   },
   "file_extension": ".py",
   "mimetype": "text/x-python",
   "name": "python",
   "nbconvert_exporter": "python",
   "pygments_lexer": "ipython3",
   "version": "3.9.5"
  }
 },
 "nbformat": 4,
 "nbformat_minor": 5
}
