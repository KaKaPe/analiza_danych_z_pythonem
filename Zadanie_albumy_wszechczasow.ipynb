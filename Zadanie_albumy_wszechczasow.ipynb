{
 "cells": [
  {
   "cell_type": "code",
   "execution_count": 1,
   "id": "e1f50389",
   "metadata": {},
   "outputs": [],
   "source": [
    "import pandas as pd"
   ]
  },
  {
   "cell_type": "code",
   "execution_count": 2,
   "id": "0ea20cf1",
   "metadata": {},
   "outputs": [
    {
     "data": {
      "text/html": [
       "<div>\n",
       "<style scoped>\n",
       "    .dataframe tbody tr th:only-of-type {\n",
       "        vertical-align: middle;\n",
       "    }\n",
       "\n",
       "    .dataframe tbody tr th {\n",
       "        vertical-align: top;\n",
       "    }\n",
       "\n",
       "    .dataframe thead th {\n",
       "        text-align: right;\n",
       "    }\n",
       "</style>\n",
       "<table border=\"1\" class=\"dataframe\">\n",
       "  <thead>\n",
       "    <tr style=\"text-align: right;\">\n",
       "      <th></th>\n",
       "      <th>POS</th>\n",
       "      <th>TITLE</th>\n",
       "      <th>ARTIST</th>\n",
       "      <th>YEAR</th>\n",
       "      <th>HIGH POSN</th>\n",
       "    </tr>\n",
       "  </thead>\n",
       "  <tbody>\n",
       "    <tr>\n",
       "      <th>0</th>\n",
       "      <td>1</td>\n",
       "      <td>GREATEST HITS</td>\n",
       "      <td>QUEEN</td>\n",
       "      <td>1981</td>\n",
       "      <td>1</td>\n",
       "    </tr>\n",
       "    <tr>\n",
       "      <th>1</th>\n",
       "      <td>2</td>\n",
       "      <td>GOLD - GREATEST HITS</td>\n",
       "      <td>ABBA</td>\n",
       "      <td>1992</td>\n",
       "      <td>1</td>\n",
       "    </tr>\n",
       "    <tr>\n",
       "      <th>2</th>\n",
       "      <td>3</td>\n",
       "      <td>SGT PEPPER'S LONELY HEARTS CLUB BAND</td>\n",
       "      <td>BEATLES</td>\n",
       "      <td>1967</td>\n",
       "      <td>1</td>\n",
       "    </tr>\n",
       "    <tr>\n",
       "      <th>3</th>\n",
       "      <td>4</td>\n",
       "      <td>21</td>\n",
       "      <td>ADELE</td>\n",
       "      <td>2011</td>\n",
       "      <td>1</td>\n",
       "    </tr>\n",
       "    <tr>\n",
       "      <th>4</th>\n",
       "      <td>5</td>\n",
       "      <td>WHAT'S THE STORY MORNING GLORY</td>\n",
       "      <td>OASIS</td>\n",
       "      <td>1995</td>\n",
       "      <td>1</td>\n",
       "    </tr>\n",
       "  </tbody>\n",
       "</table>\n",
       "</div>"
      ],
      "text/plain": [
       "   POS                                 TITLE   ARTIST  YEAR  HIGH POSN\n",
       "0    1                         GREATEST HITS    QUEEN  1981          1\n",
       "1    2                  GOLD - GREATEST HITS     ABBA  1992          1\n",
       "2    3  SGT PEPPER'S LONELY HEARTS CLUB BAND  BEATLES  1967          1\n",
       "3    4                                    21    ADELE  2011          1\n",
       "4    5        WHAT'S THE STORY MORNING GLORY    OASIS  1995          1"
      ]
     },
     "execution_count": 2,
     "metadata": {},
     "output_type": "execute_result"
    }
   ],
   "source": [
    "albums = pd.read_html('https://www.officialcharts.com/chart-news/'\n",
    "                      'the-best-selling-albums-of-all-time-on-the-official-uk-chart__15551/', \n",
    "                      header=0)\n",
    "\n",
    "albums_df = albums[0]\n",
    "albums_df.head()"
   ]
  },
  {
   "cell_type": "markdown",
   "id": "28a02a6f",
   "metadata": {},
   "source": [
    "### Zamień nagłówki kolumn na polskie odpowiedniki: ['TYTUŁ','ARTYSTA','ROK','MAX POZ']"
   ]
  },
  {
   "cell_type": "code",
   "execution_count": 3,
   "id": "bc86c511",
   "metadata": {},
   "outputs": [],
   "source": [
    "albums_df.rename(columns={'TITLE': 'TYTUŁ', 'ARTIST': 'ARTYSTA', \n",
    "                       'YEAR':'ROK', 'HIGH POSN': 'MAX POZ'}, inplace=True)"
   ]
  },
  {
   "cell_type": "code",
   "execution_count": 4,
   "id": "687b5530",
   "metadata": {},
   "outputs": [
    {
     "data": {
      "text/plain": [
       "47"
      ]
     },
     "execution_count": 4,
     "metadata": {},
     "output_type": "execute_result"
    }
   ],
   "source": [
    "albums_df['ARTYSTA'].nunique()"
   ]
  },
  {
   "cell_type": "code",
   "execution_count": 5,
   "id": "01e96bb4",
   "metadata": {},
   "outputs": [
    {
     "data": {
      "text/plain": [
       "COLDPLAY                    3\n",
       "TAKE THAT                   3\n",
       "BEATLES                     2\n",
       "ADELE                       2\n",
       "ROBBIE WILLIAMS             2\n",
       "DIDO                        2\n",
       "ABBA                        2\n",
       "QUEEN                       2\n",
       "FLEETWOOD MAC               2\n",
       "ORIGINAL SOUNDTRACK         2\n",
       "MICHAEL JACKSON             2\n",
       "AMY WINEHOUSE               1\n",
       "DIRE STRAITS                1\n",
       "TRAVIS                      1\n",
       "JAMES BLUNT                 1\n",
       "TRACY CHAPMAN               1\n",
       "SIMON & GARFUNKEL           1\n",
       "LEONA LEWIS                 1\n",
       "DAVID GRAY                  1\n",
       "ALANIS MORISSETTE           1\n",
       "GEORGE MICHAEL              1\n",
       "REM                         1\n",
       "SHANIA TWAIN                1\n",
       "U2                          1\n",
       "EMINEM                      1\n",
       "LADY GAGA                   1\n",
       "NORAH JONES                 1\n",
       "CORRS                       1\n",
       "MICHAEL BUBLE               1\n",
       "ORIGINAL CAST RECORDING     1\n",
       "SCISSOR SISTERS             1\n",
       "BOB MARLEY & THE WAILERS    1\n",
       "OASIS                       1\n",
       "MADONNA                     1\n",
       "ED SHEERAN                  1\n",
       "SIMPLY RED                  1\n",
       "PAUL SIMON                  1\n",
       "SPICE GIRLS                 1\n",
       "PINK FLOYD                  1\n",
       "KINGS OF LEON               1\n",
       "MIKE OLDFIELD               1\n",
       "MEAT LOAF                   1\n",
       "VERVE                       1\n",
       "KEANE                       1\n",
       "PHIL COLLINS                1\n",
       "SNOW PATROL                 1\n",
       "JEFF WAYNE                  1\n",
       "Name: ARTYSTA, dtype: int64"
      ]
     },
     "execution_count": 5,
     "metadata": {},
     "output_type": "execute_result"
    }
   ],
   "source": [
    "albums_df['ARTYSTA'].value_counts()"
   ]
  },
  {
   "cell_type": "markdown",
   "id": "2829cf7e",
   "metadata": {},
   "source": [
    "### Zmień nagłówki kolumn, tak aby każdy z nich rozpoczynał się od wielkiej litery, a pozostałe były wprowadzone małymi literami."
   ]
  },
  {
   "cell_type": "code",
   "execution_count": 6,
   "id": "5aa69a46",
   "metadata": {},
   "outputs": [
    {
     "data": {
      "text/html": [
       "<div>\n",
       "<style scoped>\n",
       "    .dataframe tbody tr th:only-of-type {\n",
       "        vertical-align: middle;\n",
       "    }\n",
       "\n",
       "    .dataframe tbody tr th {\n",
       "        vertical-align: top;\n",
       "    }\n",
       "\n",
       "    .dataframe thead th {\n",
       "        text-align: right;\n",
       "    }\n",
       "</style>\n",
       "<table border=\"1\" class=\"dataframe\">\n",
       "  <thead>\n",
       "    <tr style=\"text-align: right;\">\n",
       "      <th></th>\n",
       "      <th>Pos</th>\n",
       "      <th>Tytuł</th>\n",
       "      <th>Artysta</th>\n",
       "      <th>Rok</th>\n",
       "      <th>Max Poz</th>\n",
       "    </tr>\n",
       "  </thead>\n",
       "  <tbody>\n",
       "    <tr>\n",
       "      <th>0</th>\n",
       "      <td>1</td>\n",
       "      <td>GREATEST HITS</td>\n",
       "      <td>QUEEN</td>\n",
       "      <td>1981</td>\n",
       "      <td>1</td>\n",
       "    </tr>\n",
       "    <tr>\n",
       "      <th>1</th>\n",
       "      <td>2</td>\n",
       "      <td>GOLD - GREATEST HITS</td>\n",
       "      <td>ABBA</td>\n",
       "      <td>1992</td>\n",
       "      <td>1</td>\n",
       "    </tr>\n",
       "    <tr>\n",
       "      <th>2</th>\n",
       "      <td>3</td>\n",
       "      <td>SGT PEPPER'S LONELY HEARTS CLUB BAND</td>\n",
       "      <td>BEATLES</td>\n",
       "      <td>1967</td>\n",
       "      <td>1</td>\n",
       "    </tr>\n",
       "    <tr>\n",
       "      <th>3</th>\n",
       "      <td>4</td>\n",
       "      <td>21</td>\n",
       "      <td>ADELE</td>\n",
       "      <td>2011</td>\n",
       "      <td>1</td>\n",
       "    </tr>\n",
       "    <tr>\n",
       "      <th>4</th>\n",
       "      <td>5</td>\n",
       "      <td>WHAT'S THE STORY MORNING GLORY</td>\n",
       "      <td>OASIS</td>\n",
       "      <td>1995</td>\n",
       "      <td>1</td>\n",
       "    </tr>\n",
       "  </tbody>\n",
       "</table>\n",
       "</div>"
      ],
      "text/plain": [
       "   Pos                                 Tytuł  Artysta   Rok  Max Poz\n",
       "0    1                         GREATEST HITS    QUEEN  1981        1\n",
       "1    2                  GOLD - GREATEST HITS     ABBA  1992        1\n",
       "2    3  SGT PEPPER'S LONELY HEARTS CLUB BAND  BEATLES  1967        1\n",
       "3    4                                    21    ADELE  2011        1\n",
       "4    5        WHAT'S THE STORY MORNING GLORY    OASIS  1995        1"
      ]
     },
     "execution_count": 6,
     "metadata": {},
     "output_type": "execute_result"
    }
   ],
   "source": [
    "albums_df.rename(str.title, axis='columns', inplace=True)\n",
    "albums_df.head()"
   ]
  },
  {
   "cell_type": "markdown",
   "id": "db6d06c0",
   "metadata": {},
   "source": [
    "### Wyrzuć z tabeli kolumnę ‘Max Poz’."
   ]
  },
  {
   "cell_type": "code",
   "execution_count": 7,
   "id": "2ca1bb06",
   "metadata": {
    "scrolled": true
   },
   "outputs": [
    {
     "data": {
      "text/html": [
       "<div>\n",
       "<style scoped>\n",
       "    .dataframe tbody tr th:only-of-type {\n",
       "        vertical-align: middle;\n",
       "    }\n",
       "\n",
       "    .dataframe tbody tr th {\n",
       "        vertical-align: top;\n",
       "    }\n",
       "\n",
       "    .dataframe thead th {\n",
       "        text-align: right;\n",
       "    }\n",
       "</style>\n",
       "<table border=\"1\" class=\"dataframe\">\n",
       "  <thead>\n",
       "    <tr style=\"text-align: right;\">\n",
       "      <th></th>\n",
       "      <th>Pos</th>\n",
       "      <th>Tytuł</th>\n",
       "      <th>Artysta</th>\n",
       "      <th>Rok</th>\n",
       "    </tr>\n",
       "  </thead>\n",
       "  <tbody>\n",
       "    <tr>\n",
       "      <th>0</th>\n",
       "      <td>1</td>\n",
       "      <td>GREATEST HITS</td>\n",
       "      <td>QUEEN</td>\n",
       "      <td>1981</td>\n",
       "    </tr>\n",
       "    <tr>\n",
       "      <th>1</th>\n",
       "      <td>2</td>\n",
       "      <td>GOLD - GREATEST HITS</td>\n",
       "      <td>ABBA</td>\n",
       "      <td>1992</td>\n",
       "    </tr>\n",
       "    <tr>\n",
       "      <th>2</th>\n",
       "      <td>3</td>\n",
       "      <td>SGT PEPPER'S LONELY HEARTS CLUB BAND</td>\n",
       "      <td>BEATLES</td>\n",
       "      <td>1967</td>\n",
       "    </tr>\n",
       "    <tr>\n",
       "      <th>3</th>\n",
       "      <td>4</td>\n",
       "      <td>21</td>\n",
       "      <td>ADELE</td>\n",
       "      <td>2011</td>\n",
       "    </tr>\n",
       "    <tr>\n",
       "      <th>4</th>\n",
       "      <td>5</td>\n",
       "      <td>WHAT'S THE STORY MORNING GLORY</td>\n",
       "      <td>OASIS</td>\n",
       "      <td>1995</td>\n",
       "    </tr>\n",
       "  </tbody>\n",
       "</table>\n",
       "</div>"
      ],
      "text/plain": [
       "   Pos                                 Tytuł  Artysta   Rok\n",
       "0    1                         GREATEST HITS    QUEEN  1981\n",
       "1    2                  GOLD - GREATEST HITS     ABBA  1992\n",
       "2    3  SGT PEPPER'S LONELY HEARTS CLUB BAND  BEATLES  1967\n",
       "3    4                                    21    ADELE  2011\n",
       "4    5        WHAT'S THE STORY MORNING GLORY    OASIS  1995"
      ]
     },
     "execution_count": 7,
     "metadata": {},
     "output_type": "execute_result"
    }
   ],
   "source": [
    "albums_df.drop('Max Poz', axis=1, inplace=True)\n",
    "albums_df.head()"
   ]
  },
  {
   "cell_type": "code",
   "execution_count": 8,
   "id": "2444ecd9",
   "metadata": {},
   "outputs": [
    {
     "data": {
      "text/plain": [
       "1987    4\n",
       "2000    4\n",
       "2004    3\n",
       "1997    3\n",
       "2006    3\n",
       "1998    3\n",
       "1977    3\n",
       "1992    2\n",
       "1995    2\n",
       "1973    2\n",
       "2008    2\n",
       "1991    2\n",
       "2002    2\n",
       "2005    2\n",
       "1975    1\n",
       "2015    1\n",
       "2014    1\n",
       "1981    1\n",
       "1967    1\n",
       "1965    1\n",
       "1978    1\n",
       "1970    1\n",
       "2010    1\n",
       "2011    1\n",
       "1984    1\n",
       "2009    1\n",
       "2007    1\n",
       "1985    1\n",
       "2003    1\n",
       "2001    1\n",
       "1999    1\n",
       "1996    1\n",
       "1990    1\n",
       "1989    1\n",
       "1988    1\n",
       "1986    1\n",
       "1982    1\n",
       "Name: Rok, dtype: int64"
      ]
     },
     "execution_count": 8,
     "metadata": {},
     "output_type": "execute_result"
    }
   ],
   "source": [
    "albums_df['Rok'].value_counts()"
   ]
  },
  {
   "cell_type": "code",
   "execution_count": 9,
   "id": "551c22ba",
   "metadata": {},
   "outputs": [
    {
     "data": {
      "text/plain": [
       "Pos        22\n",
       "Tytuł      22\n",
       "Artysta    22\n",
       "Rok        22\n",
       "dtype: int64"
      ]
     },
     "execution_count": 9,
     "metadata": {},
     "output_type": "execute_result"
    }
   ],
   "source": [
    "albums_df[(albums_df['Rok'] >= 1960) & (albums_df['Rok'] <= 1990)].count()"
   ]
  },
  {
   "cell_type": "code",
   "execution_count": 10,
   "id": "30836a9e",
   "metadata": {},
   "outputs": [
    {
     "data": {
      "text/plain": [
       "2015"
      ]
     },
     "execution_count": 10,
     "metadata": {},
     "output_type": "execute_result"
    }
   ],
   "source": [
    "albums_df['Rok'].max()"
   ]
  },
  {
   "cell_type": "markdown",
   "id": "87ef4c8a",
   "metadata": {},
   "source": [
    "### Przygotuj listę najwcześniej wydanych albumów każdego artysty, który znalazł się na liście."
   ]
  },
  {
   "cell_type": "code",
   "execution_count": 11,
   "id": "ccd4d5e9",
   "metadata": {},
   "outputs": [
    {
     "data": {
      "text/html": [
       "<div>\n",
       "<style scoped>\n",
       "    .dataframe tbody tr th:only-of-type {\n",
       "        vertical-align: middle;\n",
       "    }\n",
       "\n",
       "    .dataframe tbody tr th {\n",
       "        vertical-align: top;\n",
       "    }\n",
       "\n",
       "    .dataframe thead th {\n",
       "        text-align: right;\n",
       "    }\n",
       "</style>\n",
       "<table border=\"1\" class=\"dataframe\">\n",
       "  <thead>\n",
       "    <tr style=\"text-align: right;\">\n",
       "      <th></th>\n",
       "      <th>Tytuł</th>\n",
       "      <th>Rok</th>\n",
       "    </tr>\n",
       "    <tr>\n",
       "      <th>Artysta</th>\n",
       "      <th></th>\n",
       "      <th></th>\n",
       "    </tr>\n",
       "  </thead>\n",
       "  <tbody>\n",
       "    <tr>\n",
       "      <th>ABBA</th>\n",
       "      <td>GREATEST HITS</td>\n",
       "      <td>1975</td>\n",
       "    </tr>\n",
       "    <tr>\n",
       "      <th>ADELE</th>\n",
       "      <td>21</td>\n",
       "      <td>2011</td>\n",
       "    </tr>\n",
       "    <tr>\n",
       "      <th>ALANIS MORISSETTE</th>\n",
       "      <td>JAGGED LITTLE PILL</td>\n",
       "      <td>1995</td>\n",
       "    </tr>\n",
       "    <tr>\n",
       "      <th>AMY WINEHOUSE</th>\n",
       "      <td>BACK TO BLACK</td>\n",
       "      <td>2006</td>\n",
       "    </tr>\n",
       "    <tr>\n",
       "      <th>BEATLES</th>\n",
       "      <td>SGT PEPPER'S LONELY HEARTS CLUB BAND</td>\n",
       "      <td>1967</td>\n",
       "    </tr>\n",
       "  </tbody>\n",
       "</table>\n",
       "</div>"
      ],
      "text/plain": [
       "                                                  Tytuł   Rok\n",
       "Artysta                                                      \n",
       "ABBA                                      GREATEST HITS  1975\n",
       "ADELE                                                21  2011\n",
       "ALANIS MORISSETTE                    JAGGED LITTLE PILL  1995\n",
       "AMY WINEHOUSE                             BACK TO BLACK  2006\n",
       "BEATLES            SGT PEPPER'S LONELY HEARTS CLUB BAND  1967"
      ]
     },
     "execution_count": 11,
     "metadata": {},
     "output_type": "execute_result"
    }
   ],
   "source": [
    "first_albums = albums_df.sort_values(by='Rok').groupby('Artysta').first().drop('Pos', axis=1)\n",
    "first_albums.head()"
   ]
  },
  {
   "cell_type": "markdown",
   "id": "645bfe5e",
   "metadata": {},
   "source": [
    "### Listę zapisz do pliku csv"
   ]
  },
  {
   "cell_type": "code",
   "execution_count": 12,
   "id": "8def6bf2",
   "metadata": {},
   "outputs": [],
   "source": [
    "first_albums.to_csv('firstAlbums.csv')"
   ]
  },
  {
   "cell_type": "markdown",
   "id": "1239a985",
   "metadata": {},
   "source": [
    "## Odpowiedzi\n",
    "<b>Ilu pojedynczych artystów znajduje się na liście?</b><br>\n",
    "47<br>\n",
    "<b>Które zespoły pojawiają się najczęściej na liście?</b><br>\n",
    "COLDPLAY oraz TAKE THAT - każdy po 3 razy<br>\n",
    "<b>W którym roku wyszło najwięcej albumów znajdujących się na liście?</b><br>\n",
    "W 1987 oraz w 2000 - w każdym z nic po 4 albumy\n",
    "<b>Ile albumów wydanych między 1960 a 1990 rokiem włącznie znajduje się na liście?</b><br>\n",
    "22<br>\n",
    "<b>W którym roku wydany został najmłodszy album na liście?</b><br>\n",
    "2015<br>\n",
    "\n"
   ]
  }
 ],
 "metadata": {
  "kernelspec": {
   "display_name": "Python 3",
   "language": "python",
   "name": "python3"
  },
  "language_info": {
   "codemirror_mode": {
    "name": "ipython",
    "version": 3
   },
   "file_extension": ".py",
   "mimetype": "text/x-python",
   "name": "python",
   "nbconvert_exporter": "python",
   "pygments_lexer": "ipython3",
   "version": "3.9.5"
  }
 },
 "nbformat": 4,
 "nbformat_minor": 5
}
