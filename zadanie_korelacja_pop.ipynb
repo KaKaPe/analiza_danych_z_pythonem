{
 "cells": [
  {
   "cell_type": "code",
   "execution_count": 1,
   "id": "940d0cd0",
   "metadata": {},
   "outputs": [],
   "source": [
    "import csv"
   ]
  },
  {
   "cell_type": "code",
   "execution_count": 2,
   "id": "d31dc52d",
   "metadata": {},
   "outputs": [],
   "source": [
    "central_stmt = \"{} mean is {} and median is {}.\"\n",
    "deviation_stmt = \"{} variance is {} and standard deviation is {}.\"\n",
    "co_measures_stmt = \"{} and {} covariance is {} and correlation is {}.\""
   ]
  },
  {
   "cell_type": "code",
   "execution_count": 3,
   "id": "7c5aa299",
   "metadata": {},
   "outputs": [
    {
     "data": {
      "text/plain": [
       "[(1.3, 76.84878),\n",
       " (1.95, 81.40732),\n",
       " (2.466, 77.57895),\n",
       " (1.6, 74.16341),\n",
       " (2.952, 68.84907),\n",
       " (1.801, 73.88595),\n",
       " (1.34, 75.26829),\n",
       " (1.34, 76.26098),\n",
       " (1.63, 80.57244),\n",
       " (2.326, 65.46259),\n",
       " (2.436, 67.5482),\n",
       " (6.563, 55.02451),\n",
       " (1.283, 76.2799),\n",
       " (1.43, 82.29024),\n",
       " (1.988, 69.80695),\n",
       " (1.61, 81.40112),\n",
       " (1.921, 82.19756),\n",
       " (2.4, 74.22683),\n",
       " (1.495, 80.12888),\n",
       " (4.705, 45.55095)]"
      ]
     },
     "execution_count": 3,
     "metadata": {},
     "output_type": "execute_result"
    }
   ],
   "source": [
    "with open('zadanie_korelacja_source.csv') as source_file:\n",
    "    source_data = csv.reader(source_file, delimiter=',')\n",
    "    \n",
    "    headers = next(source_data)\n",
    "    \n",
    "    data_collection = [(float(row[1]), float(row[2])) for row in source_data]\n",
    "    \n",
    "    x_label, y_label = headers[1], headers[2]\n",
    "    \n",
    "data_collection"
   ]
  },
  {
   "cell_type": "code",
   "execution_count": 4,
   "id": "253c6129",
   "metadata": {},
   "outputs": [
    {
     "data": {
      "text/plain": [
       "73.237646"
      ]
     },
     "execution_count": 4,
     "metadata": {},
     "output_type": "execute_result"
    }
   ],
   "source": [
    "def mean(input_list, column):\n",
    "    collection = [row[column] for row in input_list]\n",
    "    \n",
    "    result = sum(collection) / len(collection)\n",
    "    \n",
    "    return result\n",
    "\n",
    "mean(data_collection, 1)"
   ]
  },
  {
   "cell_type": "code",
   "execution_count": 5,
   "id": "b933a05e",
   "metadata": {},
   "outputs": [
    {
     "data": {
      "text/plain": [
       "75.764635"
      ]
     },
     "execution_count": 5,
     "metadata": {},
     "output_type": "execute_result"
    }
   ],
   "source": [
    "def median(input_list, column):\n",
    "    collection = [row[column] for row in input_list]\n",
    "    \n",
    "    collection.sort()    \n",
    "    input_parity = len(collection) % 2\n",
    "    sample_size = len(collection)\n",
    "    \n",
    "    if input_parity == 0:\n",
    "        a = int(sample_size / 2 - 1)\n",
    "        b = int(sample_size / 2)\n",
    "        result = (collection[a] + collection[b]) / 2\n",
    "    else:\n",
    "        c = round(sample_size / 2)\n",
    "        result = collection[c]\n",
    "        \n",
    "    return result\n",
    "\n",
    "median(data_collection, 1)"
   ]
  },
  {
   "cell_type": "code",
   "execution_count": 27,
   "id": "baeace6e",
   "metadata": {},
   "outputs": [
    {
     "data": {
      "text/plain": [
       "[]"
      ]
     },
     "execution_count": 27,
     "metadata": {},
     "output_type": "execute_result"
    }
   ],
   "source": [
    "def mode(input_list, column):\n",
    "    collection = [row[column] for row in input_list]\n",
    "    frequencies = [(collection.count(x), x) for x in collection]\n",
    "    frequencies = list(dict.fromkeys(frequencies))\n",
    "    modes = [i for i in frequencies if i[0] > 1]\n",
    "    \n",
    "    return modes\n",
    "\n",
    "mode(data_collection, 1)"
   ]
  },
  {
   "cell_type": "code",
   "execution_count": 7,
   "id": "d96cd2a2",
   "metadata": {},
   "outputs": [
    {
     "data": {
      "text/plain": [
       "88.19411239750946"
      ]
     },
     "execution_count": 7,
     "metadata": {},
     "output_type": "execute_result"
    }
   ],
   "source": [
    "def variance(input_list, column):\n",
    "    collection = [row[column] for row in input_list]\n",
    "    \n",
    "    sample_mean = sum(collection) / len(collection)\n",
    "    deviances = [(i - sample_mean) ** 2 for i in collection]\n",
    "    \n",
    "    result = sum(deviances) / (len(collection) - 1)\n",
    "    \n",
    "    return result\n",
    "\n",
    "variance(data_collection, 1)"
   ]
  },
  {
   "cell_type": "code",
   "execution_count": 8,
   "id": "43a1779c",
   "metadata": {},
   "outputs": [
    {
     "data": {
      "text/plain": [
       "9.39117204599668"
      ]
     },
     "execution_count": 8,
     "metadata": {},
     "output_type": "execute_result"
    }
   ],
   "source": [
    "def st_dev(input_list, column):\n",
    "        \n",
    "    result = variance(input_list, column) ** (0.5)\n",
    "    \n",
    "    return result\n",
    "\n",
    "st_dev(data_collection, 1)"
   ]
  },
  {
   "cell_type": "code",
   "execution_count": 9,
   "id": "3678b224",
   "metadata": {
    "scrolled": true
   },
   "outputs": [
    {
     "data": {
      "text/plain": [
       "-9.943704446631578"
      ]
     },
     "execution_count": 9,
     "metadata": {},
     "output_type": "execute_result"
    }
   ],
   "source": [
    "def covariance(input_list):\n",
    "    x_mean = mean(input_list, 0)\n",
    "    y_mean = mean(input_list, 1)\n",
    "    deviances = [(i[0] - x_mean) * (i[1] - y_mean) for i in input_list]\n",
    "    \n",
    "    result = sum(deviances) / (len(deviances) - 1)\n",
    "    \n",
    "    return result\n",
    "\n",
    "covariance(data_collection)"
   ]
  },
  {
   "cell_type": "code",
   "execution_count": 10,
   "id": "4b3aa059",
   "metadata": {},
   "outputs": [
    {
     "data": {
      "text/plain": [
       "-0.8204930122649574"
      ]
     },
     "execution_count": 10,
     "metadata": {},
     "output_type": "execute_result"
    }
   ],
   "source": [
    "def correlation(input_list):\n",
    "    \n",
    "    result = covariance(input_list) / (st_dev(input_list, 0) * st_dev(input_list, 1))\n",
    "    \n",
    "    return result\n",
    "\n",
    "correlation(data_collection)"
   ]
  },
  {
   "cell_type": "code",
   "execution_count": 11,
   "id": "f5850cef",
   "metadata": {},
   "outputs": [
    {
     "data": {
      "text/plain": [
       "(69.25377784856727, 77.22151415143273)"
      ]
     },
     "execution_count": 11,
     "metadata": {},
     "output_type": "execute_result"
    }
   ],
   "source": [
    "def conf_interval(input_list, column, pop_st_dev, level):\n",
    "    zets = {99: 2.576, 98: 2.326, 95: 1.96, 90: 1.645}\n",
    "    z = zets[level]\n",
    "    \n",
    "    collection = [row[column] for row in input_list]\n",
    "    \n",
    "    sample_mean = sum(collection) / len(collection)    \n",
    "    factor = z * (pop_st_dev / (len(data_collection) ** (1/2)))\n",
    "    \n",
    "    result = ((sample_mean - factor), (sample_mean + factor))\n",
    "    \n",
    "    return result\n",
    "\n",
    "conf_interval(data_collection, 1, 9.09, 95)"
   ]
  },
  {
   "cell_type": "code",
   "execution_count": 12,
   "id": "cb035637",
   "metadata": {},
   "outputs": [],
   "source": [
    "y_mean = mean(data_collection, 1)\n",
    "y_median = median(data_collection, 1)\n",
    "\n",
    "y_variance = variance(data_collection, 1)\n",
    "y_st_dev = st_dev(data_collection, 1)\n",
    "\n",
    "xy_covariance = covariance(data_collection)\n",
    "xy_correlation = correlation(data_collection)\n",
    "\n",
    "given_conf_int = conf_interval(data_collection, 1, 9.09, 95)"
   ]
  },
  {
   "cell_type": "code",
   "execution_count": 13,
   "id": "58041723",
   "metadata": {},
   "outputs": [
    {
     "name": "stdout",
     "output_type": "stream",
     "text": [
      "Life expectancy at birth mean is 73.24 and median is 75.76.\n",
      "Life expectancy at birth variance is 88.19 and standard deviation is 9.39.\n",
      "Fertility rate and Life expectancy at birth covariance is -9.94 and correlation is -0.82.\n",
      "Life expectancy at birth 95% confidence interval for its mean is from 69.25 to 77.22.\n"
     ]
    }
   ],
   "source": [
    "print(central_stmt.format(y_label, \"{:.2f}\".format(y_mean),\n",
    "                          \"{:.2f}\".format(y_median)))                      \n",
    "print(deviation_stmt.format(y_label, \"{:.2f}\".format(y_variance),\n",
    "                            \"{:.2f}\".format(y_st_dev)))\n",
    "print(co_measures_stmt.format(x_label, y_label, \"{:.2f}\".format(xy_covariance),\n",
    "                              \"{:.2f}\".format(xy_correlation)))\n",
    "print(\"{} 95% confidence interval for its mean is from {} to {}.\".format(y_label,\n",
    "                                                                     \"{:.2f}\".format(given_conf_int[0]),\n",
    "                                                                     \"{:.2f}\".format(given_conf_int[1])))"
   ]
  },
  {
   "cell_type": "markdown",
   "id": "66e909a4",
   "metadata": {},
   "source": [
    "# Statistics for data provided\n",
    "\n",
    "Life expectancy at birth mean is 73.24 and median is 75.76.\n",
    "Life expectancy at birth collection has no modes.\n",
    "Life expectancy at birth 95% confidence interval for its mean is from 69.25 to 77.22.\n",
    "Life expectancy at birth variance is 88.19 and standard deviation is 9.39.\n",
    "Fertility rate and Life expectancy at birth covariance is -9.94 and correlation is -0.82.\n",
    "\n",
    "Considering above figures, very strong negative correlation between Fertility rate and Life expectancy at birth has been observed. Such a correlation could be explained by a level of well-being in the countries observed, but further investigation to confirm this hypothesis is needed.\n"
   ]
  }
 ],
 "metadata": {
  "kernelspec": {
   "display_name": "Python 3",
   "language": "python",
   "name": "python3"
  },
  "language_info": {
   "codemirror_mode": {
    "name": "ipython",
    "version": 3
   },
   "file_extension": ".py",
   "mimetype": "text/x-python",
   "name": "python",
   "nbconvert_exporter": "python",
   "pygments_lexer": "ipython3",
   "version": "3.9.5"
  }
 },
 "nbformat": 4,
 "nbformat_minor": 5
}
