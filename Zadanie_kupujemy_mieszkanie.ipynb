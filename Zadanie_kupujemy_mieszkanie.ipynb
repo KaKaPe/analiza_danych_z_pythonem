{
 "cells": [
  {
   "cell_type": "code",
   "execution_count": 1,
   "id": "dc39cfda",
   "metadata": {},
   "outputs": [],
   "source": [
    "import numpy_financial as npf\n",
    "import numpy as np\n",
    "import matplotlib.pyplot as plt"
   ]
  },
  {
   "cell_type": "code",
   "execution_count": 31,
   "id": "82dfcbcd",
   "metadata": {},
   "outputs": [],
   "source": [
    "price = 120000  # cena nieruchomości w zł\n",
    "yr_val_rate = 0.05  # przewidywana roczna zmiana wartości ceny nieruchomości\n",
    "exp_val_per = 5  # przewidywany okres zmiany wartości ceny nieruchomości w latach\n",
    "dep_rate = 0.12  # stopa oprocentowania lokaty\n",
    "freq = 12  # częstość kapitalizacji lokaty w roku\n",
    "\n",
    "m_dep_rate = dep_rate / freq  # konwersja rocznej stopy do miesięcznej\n",
    "nper = exp_val_per * freq"
   ]
  },
  {
   "cell_type": "code",
   "execution_count": 29,
   "id": "adcc7a98",
   "metadata": {},
   "outputs": [
    {
     "data": {
      "text/plain": [
       "153154.0"
      ]
     },
     "execution_count": 29,
     "metadata": {},
     "output_type": "execute_result"
    }
   ],
   "source": [
    "target_price = np.around(npf.fv(0.05, exp_val_per, 0, -price))\n",
    "target_price"
   ]
  },
  {
   "cell_type": "code",
   "execution_count": 57,
   "id": "75004b4c",
   "metadata": {},
   "outputs": [
    {
     "data": {
      "text/plain": [
       "array([120000.        , 120561.93220339, 121123.86440678, 121685.79661017,\n",
       "       122247.72881356, 122809.66101695, 123371.59322034, 123933.52542373,\n",
       "       124495.45762712, 125057.38983051, 125619.3220339 , 126181.25423729,\n",
       "       126743.18644068, 127305.11864407, 127867.05084746, 128428.98305085,\n",
       "       128990.91525424, 129552.84745763, 130114.77966102, 130676.71186441,\n",
       "       131238.6440678 , 131800.57627119, 132362.50847458, 132924.44067797,\n",
       "       133486.37288136, 134048.30508475, 134610.23728814, 135172.16949153,\n",
       "       135734.10169492, 136296.03389831, 136857.96610169, 137419.89830508,\n",
       "       137981.83050847, 138543.76271186, 139105.69491525, 139667.62711864,\n",
       "       140229.55932203, 140791.49152542, 141353.42372881, 141915.3559322 ,\n",
       "       142477.28813559, 143039.22033898, 143601.15254237, 144163.08474576,\n",
       "       144725.01694915, 145286.94915254, 145848.88135593, 146410.81355932,\n",
       "       146972.74576271, 147534.6779661 , 148096.61016949, 148658.54237288,\n",
       "       149220.47457627, 149782.40677966, 150344.33898305, 150906.27118644,\n",
       "       151468.20338983, 152030.13559322, 152592.06779661, 153154.        ])"
      ]
     },
     "execution_count": 57,
     "metadata": {},
     "output_type": "execute_result"
    }
   ],
   "source": [
    "month_incr = np.linspace(price, target_price, nper)\n",
    "month_incr"
   ]
  },
  {
   "cell_type": "code",
   "execution_count": 32,
   "id": "ee51a524",
   "metadata": {},
   "outputs": [
    {
     "data": {
      "text/plain": [
       "array([ 1,  2,  3,  4,  5,  6,  7,  8,  9, 10, 11, 12, 13, 14, 15, 16, 17,\n",
       "       18, 19, 20, 21, 22, 23, 24, 25, 26, 27, 28, 29, 30, 31, 32, 33, 34,\n",
       "       35, 36, 37, 38, 39, 40, 41, 42, 43, 44, 45, 46, 47, 48, 49, 50, 51,\n",
       "       52, 53, 54, 55, 56, 57, 58, 59, 60])"
      ]
     },
     "execution_count": 32,
     "metadata": {},
     "output_type": "execute_result"
    }
   ],
   "source": [
    "periods = np.arange(1, nper + 1, dtype=int)\n",
    "periods"
   ]
  },
  {
   "cell_type": "code",
   "execution_count": 51,
   "id": "52744516",
   "metadata": {},
   "outputs": [
    {
     "name": "stdout",
     "output_type": "stream",
     "text": [
      "-1875.0\n"
     ]
    }
   ],
   "source": [
    "deposit_m_pay = npf.pmt(m_dep_rate, nper, 0, target_price)\n",
    "deposit_sim = npf.fv(m_dep_rate, periods, deposit_m_pay, 0)\n",
    "\n",
    "print(np.around(deposit_m_pay))"
   ]
  },
  {
   "cell_type": "markdown",
   "id": "b15af7a3",
   "metadata": {},
   "source": [
    "# Odpowiedzi\n",
    "\n",
    "Wartość nieruchomości po 5 latach wyniesie 153 154 zł\n",
    "Miesięczna składka na wybraną lokatę, aby uzyskać powyższą kwotę po 5 latach wynosi 1 875 zł"
   ]
  },
  {
   "cell_type": "code",
   "execution_count": 65,
   "id": "532d0621",
   "metadata": {},
   "outputs": [
    {
     "data": {
      "text/plain": [
       "Text(0, 0.5, 'zł')"
      ]
     },
     "execution_count": 65,
     "metadata": {},
     "output_type": "execute_result"
    },
    {
     "data": {
      "image/png": "[encoded data removed]",
      "text/plain": [
       "<Figure size 432x288 with 1 Axes>"
      ]
     },
     "metadata": {
      "needs_background": "light"
     },
     "output_type": "display_data"
    }
   ],
   "source": [
    "plt.plot(periods, month_incr, label='wartość nieruchomości')\n",
    "plt.plot(deposit_sim, label='wartość lokaty')\n",
    "plt.legend()\n",
    "plt.xlabel('Miesiące')\n",
    "plt.ylabel('zł')"
   ]
  },
  {
   "cell_type": "code",
   "execution_count": null,
   "id": "6228cb2e",
   "metadata": {},
   "outputs": [],
   "source": []
  }
 ],
 "metadata": {
  "kernelspec": {
   "display_name": "Python 3",
   "language": "python",
   "name": "python3"
  },
  "language_info": {
   "codemirror_mode": {
    "name": "ipython",
    "version": 3
   },
   "file_extension": ".py",
   "mimetype": "text/x-python",
   "name": "python",
   "nbconvert_exporter": "python",
   "pygments_lexer": "ipython3",
   "version": "3.9.5"
  }
 },
 "nbformat": 4,
 "nbformat_minor": 5
}
